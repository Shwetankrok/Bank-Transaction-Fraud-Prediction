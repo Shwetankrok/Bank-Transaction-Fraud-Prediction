{
 "cells": [
  {
   "cell_type": "markdown",
   "id": "norman-trigger",
   "metadata": {},
   "source": [
    "# Stout Case Study"
   ]
  },
  {
   "cell_type": "code",
   "execution_count": 1,
   "id": "parental-corps",
   "metadata": {},
   "outputs": [],
   "source": [
    "# Import library\n",
    "import pandas as pd\n",
    "import numpy as np\n",
    "import matplotlib.pyplot as plt\n",
    "import seaborn as sns"
   ]
  },
  {
   "cell_type": "code",
   "execution_count": 213,
   "id": "chemical-freeware",
   "metadata": {},
   "outputs": [],
   "source": [
    "# loading the data\n",
    "data=pd.read_csv(\"C:/Users/shwer/OneDrive/Desktop/archive/stout_data.csv\")"
   ]
  },
  {
   "cell_type": "code",
   "execution_count": 214,
   "id": "continued-seattle",
   "metadata": {},
   "outputs": [
    {
     "data": {
      "text/html": [
       "<div>\n",
       "<style scoped>\n",
       "    .dataframe tbody tr th:only-of-type {\n",
       "        vertical-align: middle;\n",
       "    }\n",
       "\n",
       "    .dataframe tbody tr th {\n",
       "        vertical-align: top;\n",
       "    }\n",
       "\n",
       "    .dataframe thead th {\n",
       "        text-align: right;\n",
       "    }\n",
       "</style>\n",
       "<table border=\"1\" class=\"dataframe\">\n",
       "  <thead>\n",
       "    <tr style=\"text-align: right;\">\n",
       "      <th></th>\n",
       "      <th>step</th>\n",
       "      <th>type</th>\n",
       "      <th>amount</th>\n",
       "      <th>nameOrig</th>\n",
       "      <th>oldbalanceOrg</th>\n",
       "      <th>newbalanceOrig</th>\n",
       "      <th>nameDest</th>\n",
       "      <th>oldbalanceDest</th>\n",
       "      <th>newbalanceDest</th>\n",
       "      <th>isFraud</th>\n",
       "      <th>isFlaggedFraud</th>\n",
       "    </tr>\n",
       "  </thead>\n",
       "  <tbody>\n",
       "    <tr>\n",
       "      <th>0</th>\n",
       "      <td>1</td>\n",
       "      <td>PAYMENT</td>\n",
       "      <td>9839.64</td>\n",
       "      <td>C1231006815</td>\n",
       "      <td>170136.0</td>\n",
       "      <td>160296.36</td>\n",
       "      <td>M1979787155</td>\n",
       "      <td>0.0</td>\n",
       "      <td>0.0</td>\n",
       "      <td>0</td>\n",
       "      <td>0</td>\n",
       "    </tr>\n",
       "    <tr>\n",
       "      <th>1</th>\n",
       "      <td>1</td>\n",
       "      <td>PAYMENT</td>\n",
       "      <td>1864.28</td>\n",
       "      <td>C1666544295</td>\n",
       "      <td>21249.0</td>\n",
       "      <td>19384.72</td>\n",
       "      <td>M2044282225</td>\n",
       "      <td>0.0</td>\n",
       "      <td>0.0</td>\n",
       "      <td>0</td>\n",
       "      <td>0</td>\n",
       "    </tr>\n",
       "    <tr>\n",
       "      <th>2</th>\n",
       "      <td>1</td>\n",
       "      <td>TRANSFER</td>\n",
       "      <td>181.00</td>\n",
       "      <td>C1305486145</td>\n",
       "      <td>181.0</td>\n",
       "      <td>0.00</td>\n",
       "      <td>C553264065</td>\n",
       "      <td>0.0</td>\n",
       "      <td>0.0</td>\n",
       "      <td>1</td>\n",
       "      <td>0</td>\n",
       "    </tr>\n",
       "    <tr>\n",
       "      <th>3</th>\n",
       "      <td>1</td>\n",
       "      <td>CASH_OUT</td>\n",
       "      <td>181.00</td>\n",
       "      <td>C840083671</td>\n",
       "      <td>181.0</td>\n",
       "      <td>0.00</td>\n",
       "      <td>C38997010</td>\n",
       "      <td>21182.0</td>\n",
       "      <td>0.0</td>\n",
       "      <td>1</td>\n",
       "      <td>0</td>\n",
       "    </tr>\n",
       "    <tr>\n",
       "      <th>4</th>\n",
       "      <td>1</td>\n",
       "      <td>PAYMENT</td>\n",
       "      <td>11668.14</td>\n",
       "      <td>C2048537720</td>\n",
       "      <td>41554.0</td>\n",
       "      <td>29885.86</td>\n",
       "      <td>M1230701703</td>\n",
       "      <td>0.0</td>\n",
       "      <td>0.0</td>\n",
       "      <td>0</td>\n",
       "      <td>0</td>\n",
       "    </tr>\n",
       "  </tbody>\n",
       "</table>\n",
       "</div>"
      ],
      "text/plain": [
       "   step      type    amount     nameOrig  oldbalanceOrg  newbalanceOrig  \\\n",
       "0     1   PAYMENT   9839.64  C1231006815       170136.0       160296.36   \n",
       "1     1   PAYMENT   1864.28  C1666544295        21249.0        19384.72   \n",
       "2     1  TRANSFER    181.00  C1305486145          181.0            0.00   \n",
       "3     1  CASH_OUT    181.00   C840083671          181.0            0.00   \n",
       "4     1   PAYMENT  11668.14  C2048537720        41554.0        29885.86   \n",
       "\n",
       "      nameDest  oldbalanceDest  newbalanceDest  isFraud  isFlaggedFraud  \n",
       "0  M1979787155             0.0             0.0        0               0  \n",
       "1  M2044282225             0.0             0.0        0               0  \n",
       "2   C553264065             0.0             0.0        1               0  \n",
       "3    C38997010         21182.0             0.0        1               0  \n",
       "4  M1230701703             0.0             0.0        0               0  "
      ]
     },
     "execution_count": 214,
     "metadata": {},
     "output_type": "execute_result"
    }
   ],
   "source": [
    "data.head()"
   ]
  },
  {
   "cell_type": "code",
   "execution_count": 216,
   "id": "fitted-heater",
   "metadata": {},
   "outputs": [
    {
     "data": {
      "text/plain": [
       "(6362620, 11)"
      ]
     },
     "execution_count": 216,
     "metadata": {},
     "output_type": "execute_result"
    }
   ],
   "source": [
    "data.shape"
   ]
  },
  {
   "cell_type": "markdown",
   "id": "incomplete-trinity",
   "metadata": {},
   "source": [
    "# Observations:\n",
    "<b> Dataset has total 6.3 M records with 11 columns(features) </b>"
   ]
  },
  {
   "cell_type": "code",
   "execution_count": 217,
   "id": "appropriate-heater",
   "metadata": {},
   "outputs": [
    {
     "data": {
      "text/plain": [
       "step              0\n",
       "type              0\n",
       "amount            0\n",
       "nameOrig          0\n",
       "oldbalanceOrg     0\n",
       "newbalanceOrig    0\n",
       "nameDest          0\n",
       "oldbalanceDest    0\n",
       "newbalanceDest    0\n",
       "isFraud           0\n",
       "isFlaggedFraud    0\n",
       "dtype: int64"
      ]
     },
     "execution_count": 217,
     "metadata": {},
     "output_type": "execute_result"
    }
   ],
   "source": [
    "data.isnull().sum()"
   ]
  },
  {
   "cell_type": "markdown",
   "id": "primary-candidate",
   "metadata": {},
   "source": [
    "# Observations:\n",
    "<b> Dataset is cleaned no missing values </b>"
   ]
  },
  {
   "cell_type": "code",
   "execution_count": 4,
   "id": "prescribed-devon",
   "metadata": {},
   "outputs": [],
   "source": [
    "# Getting Counts of Type of Transaction with Fraud =0 and Fraud=1\n",
    "data['Counts'] = data.groupby(['type','isFraud'])['type'].transform('count')"
   ]
  },
  {
   "cell_type": "code",
   "execution_count": 5,
   "id": "hollow-width",
   "metadata": {},
   "outputs": [],
   "source": [
    "# Getting Counts of Type of Transaction\n",
    "data['Counts_Overall_type'] = data.groupby(['type'])['type'].transform('count')"
   ]
  },
  {
   "cell_type": "code",
   "execution_count": 6,
   "id": "moral-mouth",
   "metadata": {},
   "outputs": [
    {
     "data": {
      "text/html": [
       "<div>\n",
       "<style scoped>\n",
       "    .dataframe tbody tr th:only-of-type {\n",
       "        vertical-align: middle;\n",
       "    }\n",
       "\n",
       "    .dataframe tbody tr th {\n",
       "        vertical-align: top;\n",
       "    }\n",
       "\n",
       "    .dataframe thead th {\n",
       "        text-align: right;\n",
       "    }\n",
       "</style>\n",
       "<table border=\"1\" class=\"dataframe\">\n",
       "  <thead>\n",
       "    <tr style=\"text-align: right;\">\n",
       "      <th></th>\n",
       "      <th>step</th>\n",
       "      <th>type</th>\n",
       "      <th>amount</th>\n",
       "      <th>nameOrig</th>\n",
       "      <th>oldbalanceOrg</th>\n",
       "      <th>newbalanceOrig</th>\n",
       "      <th>nameDest</th>\n",
       "      <th>oldbalanceDest</th>\n",
       "      <th>newbalanceDest</th>\n",
       "      <th>isFraud</th>\n",
       "      <th>isFlaggedFraud</th>\n",
       "      <th>Counts</th>\n",
       "      <th>Counts_Overall_type</th>\n",
       "    </tr>\n",
       "  </thead>\n",
       "  <tbody>\n",
       "    <tr>\n",
       "      <th>0</th>\n",
       "      <td>1</td>\n",
       "      <td>PAYMENT</td>\n",
       "      <td>9839.64</td>\n",
       "      <td>C1231006815</td>\n",
       "      <td>170136.0</td>\n",
       "      <td>160296.36</td>\n",
       "      <td>M1979787155</td>\n",
       "      <td>0.0</td>\n",
       "      <td>0.0</td>\n",
       "      <td>0</td>\n",
       "      <td>0</td>\n",
       "      <td>2151495</td>\n",
       "      <td>2151495</td>\n",
       "    </tr>\n",
       "    <tr>\n",
       "      <th>1</th>\n",
       "      <td>1</td>\n",
       "      <td>PAYMENT</td>\n",
       "      <td>1864.28</td>\n",
       "      <td>C1666544295</td>\n",
       "      <td>21249.0</td>\n",
       "      <td>19384.72</td>\n",
       "      <td>M2044282225</td>\n",
       "      <td>0.0</td>\n",
       "      <td>0.0</td>\n",
       "      <td>0</td>\n",
       "      <td>0</td>\n",
       "      <td>2151495</td>\n",
       "      <td>2151495</td>\n",
       "    </tr>\n",
       "    <tr>\n",
       "      <th>2</th>\n",
       "      <td>1</td>\n",
       "      <td>TRANSFER</td>\n",
       "      <td>181.00</td>\n",
       "      <td>C1305486145</td>\n",
       "      <td>181.0</td>\n",
       "      <td>0.00</td>\n",
       "      <td>C553264065</td>\n",
       "      <td>0.0</td>\n",
       "      <td>0.0</td>\n",
       "      <td>1</td>\n",
       "      <td>0</td>\n",
       "      <td>4097</td>\n",
       "      <td>532909</td>\n",
       "    </tr>\n",
       "    <tr>\n",
       "      <th>3</th>\n",
       "      <td>1</td>\n",
       "      <td>CASH_OUT</td>\n",
       "      <td>181.00</td>\n",
       "      <td>C840083671</td>\n",
       "      <td>181.0</td>\n",
       "      <td>0.00</td>\n",
       "      <td>C38997010</td>\n",
       "      <td>21182.0</td>\n",
       "      <td>0.0</td>\n",
       "      <td>1</td>\n",
       "      <td>0</td>\n",
       "      <td>4116</td>\n",
       "      <td>2237500</td>\n",
       "    </tr>\n",
       "    <tr>\n",
       "      <th>4</th>\n",
       "      <td>1</td>\n",
       "      <td>PAYMENT</td>\n",
       "      <td>11668.14</td>\n",
       "      <td>C2048537720</td>\n",
       "      <td>41554.0</td>\n",
       "      <td>29885.86</td>\n",
       "      <td>M1230701703</td>\n",
       "      <td>0.0</td>\n",
       "      <td>0.0</td>\n",
       "      <td>0</td>\n",
       "      <td>0</td>\n",
       "      <td>2151495</td>\n",
       "      <td>2151495</td>\n",
       "    </tr>\n",
       "  </tbody>\n",
       "</table>\n",
       "</div>"
      ],
      "text/plain": [
       "   step      type    amount     nameOrig  oldbalanceOrg  newbalanceOrig  \\\n",
       "0     1   PAYMENT   9839.64  C1231006815       170136.0       160296.36   \n",
       "1     1   PAYMENT   1864.28  C1666544295        21249.0        19384.72   \n",
       "2     1  TRANSFER    181.00  C1305486145          181.0            0.00   \n",
       "3     1  CASH_OUT    181.00   C840083671          181.0            0.00   \n",
       "4     1   PAYMENT  11668.14  C2048537720        41554.0        29885.86   \n",
       "\n",
       "      nameDest  oldbalanceDest  newbalanceDest  isFraud  isFlaggedFraud  \\\n",
       "0  M1979787155             0.0             0.0        0               0   \n",
       "1  M2044282225             0.0             0.0        0               0   \n",
       "2   C553264065             0.0             0.0        1               0   \n",
       "3    C38997010         21182.0             0.0        1               0   \n",
       "4  M1230701703             0.0             0.0        0               0   \n",
       "\n",
       "    Counts  Counts_Overall_type  \n",
       "0  2151495              2151495  \n",
       "1  2151495              2151495  \n",
       "2     4097               532909  \n",
       "3     4116              2237500  \n",
       "4  2151495              2151495  "
      ]
     },
     "execution_count": 6,
     "metadata": {},
     "output_type": "execute_result"
    }
   ],
   "source": [
    "data.head()"
   ]
  },
  {
   "cell_type": "code",
   "execution_count": 18,
   "id": "aggregate-court",
   "metadata": {},
   "outputs": [
    {
     "data": {
      "text/html": [
       "<div>\n",
       "<style scoped>\n",
       "    .dataframe tbody tr th:only-of-type {\n",
       "        vertical-align: middle;\n",
       "    }\n",
       "\n",
       "    .dataframe tbody tr th {\n",
       "        vertical-align: top;\n",
       "    }\n",
       "\n",
       "    .dataframe thead th {\n",
       "        text-align: right;\n",
       "    }\n",
       "</style>\n",
       "<table border=\"1\" class=\"dataframe\">\n",
       "  <thead>\n",
       "    <tr style=\"text-align: right;\">\n",
       "      <th></th>\n",
       "      <th>type</th>\n",
       "      <th>Counts_Overall_type</th>\n",
       "      <th>isFraud</th>\n",
       "      <th>0</th>\n",
       "    </tr>\n",
       "  </thead>\n",
       "  <tbody>\n",
       "    <tr>\n",
       "      <th>0</th>\n",
       "      <td>CASH_OUT</td>\n",
       "      <td>2237500</td>\n",
       "      <td>0</td>\n",
       "      <td>2233384</td>\n",
       "    </tr>\n",
       "    <tr>\n",
       "      <th>1</th>\n",
       "      <td>PAYMENT</td>\n",
       "      <td>2151495</td>\n",
       "      <td>0</td>\n",
       "      <td>2151495</td>\n",
       "    </tr>\n",
       "    <tr>\n",
       "      <th>2</th>\n",
       "      <td>CASH_IN</td>\n",
       "      <td>1399284</td>\n",
       "      <td>0</td>\n",
       "      <td>1399284</td>\n",
       "    </tr>\n",
       "    <tr>\n",
       "      <th>3</th>\n",
       "      <td>TRANSFER</td>\n",
       "      <td>532909</td>\n",
       "      <td>0</td>\n",
       "      <td>528812</td>\n",
       "    </tr>\n",
       "    <tr>\n",
       "      <th>4</th>\n",
       "      <td>DEBIT</td>\n",
       "      <td>41432</td>\n",
       "      <td>0</td>\n",
       "      <td>41432</td>\n",
       "    </tr>\n",
       "    <tr>\n",
       "      <th>5</th>\n",
       "      <td>CASH_OUT</td>\n",
       "      <td>2237500</td>\n",
       "      <td>1</td>\n",
       "      <td>4116</td>\n",
       "    </tr>\n",
       "    <tr>\n",
       "      <th>6</th>\n",
       "      <td>TRANSFER</td>\n",
       "      <td>532909</td>\n",
       "      <td>1</td>\n",
       "      <td>4097</td>\n",
       "    </tr>\n",
       "  </tbody>\n",
       "</table>\n",
       "</div>"
      ],
      "text/plain": [
       "       type  Counts_Overall_type  isFraud        0\n",
       "0  CASH_OUT              2237500        0  2233384\n",
       "1   PAYMENT              2151495        0  2151495\n",
       "2   CASH_IN              1399284        0  1399284\n",
       "3  TRANSFER               532909        0   528812\n",
       "4     DEBIT                41432        0    41432\n",
       "5  CASH_OUT              2237500        1     4116\n",
       "6  TRANSFER               532909        1     4097"
      ]
     },
     "execution_count": 18,
     "metadata": {},
     "output_type": "execute_result"
    }
   ],
   "source": [
    "a"
   ]
  },
  {
   "cell_type": "markdown",
   "id": "instructional-mediterranean",
   "metadata": {},
   "source": [
    "# Visualizing different type of transaction made by user and count of it"
   ]
  },
  {
   "cell_type": "code",
   "execution_count": 23,
   "id": "focused-distinction",
   "metadata": {},
   "outputs": [
    {
     "data": {
      "text/plain": [
       "Text(0.5, 1.0, 'Count of Transaction for each types of Transaction')"
      ]
     },
     "execution_count": 23,
     "metadata": {},
     "output_type": "execute_result"
    },
    {
     "data": {
      "image/png": "[encoded data removed]",
      "text/plain": [
       "<Figure size 576x504 with 1 Axes>"
      ]
     },
     "metadata": {
      "needs_background": "light"
     },
     "output_type": "display_data"
    }
   ],
   "source": [
    "# Visualizing different type of transaction made by user and count of it\n",
    "# reference: https://www.kite.com/python/answers/how-to-change-the-seaborn-plot-figure-size-in-python\n",
    "fig_dims = (8, 7)\n",
    "fig, ax = plt.subplots(figsize=fig_dims)\n",
    "g= sns.barplot(x=\"type\",y='Counts_Overall_type',data=data,hue=\"type\",ax=ax)\n",
    "plt.xlabel(\"Type of Transactions made by user\")\n",
    "plt.ylabel(\"Count\")\n",
    "plt.title(\"Count of Transaction for each types of Transaction\")\n",
    "\n",
    "plt.figure(figsize=(18,6))\n",
    "ax = (data['transactionHour'].value_counts(sort=False, normalize=True) * 100).round(2).plot(kind='bar')\n",
    "for i in ax.patches:\n",
    "    # get_x pulls left or right; get_height pushes up or down\n",
    "    ax.text(i.get_x(), i.get_height(), str(round(i.get_height(), 2)) + \"%\", fontsize=12, color='black')\n",
    "plt.xlabel('Transaction hour', fontsize=10,fontweight='bold')\n",
    "plt.xticks(fontsize=10,fontweight='bold')\n",
    "plt.ylabel('% of observations', fontsize=10,fontweight='bold')\n",
    "plt.yticks(fontsize=10,fontweight='bold')\n",
    "plt.title('No. of observations at each hour', fontsize=20)\n",
    "plt.show()"
   ]
  },
  {
   "cell_type": "code",
   "execution_count": 218,
   "id": "appreciated-folks",
   "metadata": {},
   "outputs": [
    {
     "data": {
      "text/plain": [
       "CASH_OUT    2237500\n",
       "PAYMENT     2151495\n",
       "CASH_IN     1399284\n",
       "TRANSFER     532909\n",
       "DEBIT         41432\n",
       "Name: type, dtype: int64"
      ]
     },
     "execution_count": 218,
     "metadata": {},
     "output_type": "execute_result"
    }
   ],
   "source": [
    "data['type'].value_counts()"
   ]
  },
  {
   "cell_type": "markdown",
   "id": "binary-trinity",
   "metadata": {},
   "source": [
    "# Observations: \n",
    "<b><br>Cash Out is the most popular transaction type made by user i.e. 2237500 </b></br>\n",
    "<b><br> Debit is the least transaction type made by user i.e. 41432 </b></br>"
   ]
  },
  {
   "cell_type": "markdown",
   "id": "initial-surgery",
   "metadata": {},
   "source": [
    "# Understanding fraud and non fraud tarnsactions made"
   ]
  },
  {
   "cell_type": "code",
   "execution_count": 24,
   "id": "psychological-retro",
   "metadata": {},
   "outputs": [
    {
     "data": {
      "text/plain": [
       "Text(0.5, 1.0, 'Fraud Transaction Counts VS Valid Transactions Count')"
      ]
     },
     "execution_count": 24,
     "metadata": {},
     "output_type": "execute_result"
    },
    {
     "data": {
      "image/png": "[encoded data removed]",
      "text/plain": [
       "<Figure size 576x504 with 1 Axes>"
      ]
     },
     "metadata": {
      "needs_background": "light"
     },
     "output_type": "display_data"
    }
   ],
   "source": [
    "fig_dims = (8, 7)\n",
    "fig, ax = plt.subplots(figsize=fig_dims)\n",
    "ax = sns.countplot(x=\"isFraud\", data=data,hue=\"isFraud\",ax=ax)\n",
    "plt.xlabel(\"Transactions valid or Not\")\n",
    "plt.ylabel(\"Count\")\n",
    "plt.title(\"Fraud Transaction Counts VS Valid Transactions Count\")"
   ]
  },
  {
   "cell_type": "code",
   "execution_count": 25,
   "id": "electoral-celtic",
   "metadata": {},
   "outputs": [
    {
     "data": {
      "text/plain": [
       "0    6354407\n",
       "1       8213\n",
       "Name: isFraud, dtype: int64"
      ]
     },
     "execution_count": 25,
     "metadata": {},
     "output_type": "execute_result"
    }
   ],
   "source": [
    "data['isFraud'].value_counts()"
   ]
  },
  {
   "cell_type": "markdown",
   "id": "breeding-control",
   "metadata": {},
   "source": [
    "# Observations\n",
    "<br><b> Valid Transaction are much more than invalid transactions. 8213 transactions are invalid and 6.3 M transactions are valid</b></br>"
   ]
  },
  {
   "cell_type": "code",
   "execution_count": 27,
   "id": "motivated-chester",
   "metadata": {},
   "outputs": [
    {
     "data": {
      "image/png": "[encoded data removed]",
      "text/plain": [
       "<Figure size 432x288 with 1 Axes>"
      ]
     },
     "metadata": {
      "needs_background": "light"
     },
     "output_type": "display_data"
    }
   ],
   "source": [
    "transaction_types = [types for types, df in data.groupby(['type'])]\n",
    "\n",
    "plt.bar(transaction_types,data.groupby(['type']).sum()['amount'])\n",
    "plt.ylabel('Total Amount')\n",
    "plt.xlabel('Transaction types')\n",
    "plt.xticks(transaction_types, rotation='vertical', size=8)\n",
    "plt.title(\"Total Amount made in every transaction type\")\n",
    "plt.show()"
   ]
  },
  {
   "cell_type": "code",
   "execution_count": 28,
   "id": "likely-pickup",
   "metadata": {},
   "outputs": [
    {
     "data": {
      "text/plain": [
       "type\n",
       "CASH_IN     2.363674e+11\n",
       "CASH_OUT    3.944130e+11\n",
       "DEBIT       2.271992e+08\n",
       "PAYMENT     2.809337e+10\n",
       "TRANSFER    4.852920e+11\n",
       "Name: amount, dtype: float64"
      ]
     },
     "execution_count": 28,
     "metadata": {},
     "output_type": "execute_result"
    }
   ],
   "source": [
    "data.groupby(['type']).sum()['amount']"
   ]
  },
  {
   "cell_type": "markdown",
   "id": "abstract-rescue",
   "metadata": {},
   "source": [
    "# Observations:\n",
    "<b><br> Amount of Transaction made by Transfer is the largest  even though it had very few Transfer Transactions made </br></b>\n",
    "<b><br> While Payment transaction count was high but Amount of transaction made by Payment is less than rest type of transactions </br></b>\n"
   ]
  },
  {
   "cell_type": "code",
   "execution_count": 29,
   "id": "educational-parliament",
   "metadata": {},
   "outputs": [
    {
     "name": "stdout",
     "output_type": "stream",
     "text": [
      "8213\n",
      "6354407\n"
     ]
    },
    {
     "data": {
      "text/plain": [
       "16"
      ]
     },
     "execution_count": 29,
     "metadata": {},
     "output_type": "execute_result"
    }
   ],
   "source": [
    "# Checking Illegal Attempt of Transfer (Amount >200)\n",
    "print((data[\"isFraud\"] == 1).sum())\n",
    "print((data[\"isFraud\"] == 0).sum())\n",
    "(data[\"isFlaggedFraud\"] == 1).sum()"
   ]
  },
  {
   "cell_type": "markdown",
   "id": "loose-cedar",
   "metadata": {},
   "source": [
    "# Observations:\n",
    "<br><b> Out of 8213 Fraud Transactions only 16 of them are considered Flagged Fraud because transactions which are greater thean >200 is flagged Fraud</br></b>\n",
    "<br><b> Flagged Fraud are not even 1% of Total Fraud Transactions made</br></b>"
   ]
  },
  {
   "cell_type": "markdown",
   "id": "passive-victor",
   "metadata": {},
   "source": [
    "# Visualizing different types of Transactions with their count of Frauds transactions"
   ]
  },
  {
   "cell_type": "code",
   "execution_count": 30,
   "id": "choice-bullet",
   "metadata": {},
   "outputs": [
    {
     "data": {
      "text/plain": [
       "<AxesSubplot:xlabel='type', ylabel='count'>"
      ]
     },
     "execution_count": 30,
     "metadata": {},
     "output_type": "execute_result"
    },
    {
     "data": {
      "image/png": "[encoded data removed]",
      "text/plain": [
       "<Figure size 432x288 with 1 Axes>"
      ]
     },
     "metadata": {
      "needs_background": "light"
     },
     "output_type": "display_data"
    }
   ],
   "source": [
    "data1=data[data[\"isFraud\"]==1]\n",
    "sns.countplot(x='type',hue='isFraud',data=data1)"
   ]
  },
  {
   "cell_type": "code",
   "execution_count": 31,
   "id": "federal-tracker",
   "metadata": {},
   "outputs": [
    {
     "data": {
      "text/plain": [
       "type\n",
       "CASH_OUT    4116\n",
       "TRANSFER    4097\n",
       "Name: isFraud, dtype: int64"
      ]
     },
     "execution_count": 31,
     "metadata": {},
     "output_type": "execute_result"
    }
   ],
   "source": [
    "data1.groupby(['type']).sum()['isFraud']"
   ]
  },
  {
   "cell_type": "markdown",
   "id": "answering-lunch",
   "metadata": {},
   "source": [
    "# Observations:\n",
    "<br><b> Of all the different types of transactions made CashOut and Transfer has only Fraud Cases i.e. CashIn, Debit and Payment has no Fraud cases </b></br>"
   ]
  },
  {
   "cell_type": "code",
   "execution_count": 33,
   "id": "sonic-reality",
   "metadata": {},
   "outputs": [],
   "source": [
    "data['Percentage']=(data['Counts']/data['Counts_Overall_type'])*100"
   ]
  },
  {
   "cell_type": "code",
   "execution_count": 35,
   "id": "latest-projection",
   "metadata": {},
   "outputs": [],
   "source": [
    "data3=data[['type','isFraud','Percentage']]"
   ]
  },
  {
   "cell_type": "code",
   "execution_count": 36,
   "id": "executive-tuner",
   "metadata": {},
   "outputs": [
    {
     "data": {
      "text/plain": [
       "<AxesSubplot:xlabel='type', ylabel='Percentage'>"
      ]
     },
     "execution_count": 36,
     "metadata": {},
     "output_type": "execute_result"
    },
    {
     "data": {
      "image/png": "[encoded data removed]",
      "text/plain": [
       "<Figure size 432x288 with 1 Axes>"
      ]
     },
     "metadata": {
      "needs_background": "light"
     },
     "output_type": "display_data"
    }
   ],
   "source": [
    "sns.barplot(x='type',y='Percentage',hue='isFraud',data=data3)"
   ]
  },
  {
   "cell_type": "code",
   "execution_count": 38,
   "id": "substantial-ready",
   "metadata": {},
   "outputs": [
    {
     "data": {
      "text/plain": [
       "type      isFraud  Percentage\n",
       "CASH_OUT  0        99.816045     2233384\n",
       "PAYMENT   0        100.000000    2151495\n",
       "CASH_IN   0        100.000000    1399284\n",
       "TRANSFER  0        99.231201      528812\n",
       "DEBIT     0        100.000000      41432\n",
       "CASH_OUT  1        0.183955         4116\n",
       "TRANSFER  1        0.768799         4097\n",
       "dtype: int64"
      ]
     },
     "execution_count": 38,
     "metadata": {},
     "output_type": "execute_result"
    }
   ],
   "source": [
    "data3.value_counts()"
   ]
  },
  {
   "cell_type": "markdown",
   "id": "polyphonic-english",
   "metadata": {},
   "source": [
    "# Observations: \n",
    "<b><br> Fraud cases are very minimal around 0.76 % for Transfer and 0.18 % for Cash_Out </br></b>"
   ]
  },
  {
   "cell_type": "code",
   "execution_count": 76,
   "id": "spoken-observer",
   "metadata": {},
   "outputs": [],
   "source": [
    "# Extracting hour of day from Step Column\n",
    "data['transactionHour'] = data['step'] % 24"
   ]
  },
  {
   "cell_type": "code",
   "execution_count": 77,
   "id": "choice-consideration",
   "metadata": {},
   "outputs": [
    {
     "data": {
      "text/html": [
       "<div>\n",
       "<style scoped>\n",
       "    .dataframe tbody tr th:only-of-type {\n",
       "        vertical-align: middle;\n",
       "    }\n",
       "\n",
       "    .dataframe tbody tr th {\n",
       "        vertical-align: top;\n",
       "    }\n",
       "\n",
       "    .dataframe thead th {\n",
       "        text-align: right;\n",
       "    }\n",
       "</style>\n",
       "<table border=\"1\" class=\"dataframe\">\n",
       "  <thead>\n",
       "    <tr style=\"text-align: right;\">\n",
       "      <th></th>\n",
       "      <th>step</th>\n",
       "      <th>type</th>\n",
       "      <th>amount</th>\n",
       "      <th>nameOrig</th>\n",
       "      <th>oldbalanceOrg</th>\n",
       "      <th>newbalanceOrig</th>\n",
       "      <th>nameDest</th>\n",
       "      <th>oldbalanceDest</th>\n",
       "      <th>newbalanceDest</th>\n",
       "      <th>isFraud</th>\n",
       "      <th>isFlaggedFraud</th>\n",
       "      <th>Counts</th>\n",
       "      <th>Counts_Overall_type</th>\n",
       "      <th>Percentage</th>\n",
       "      <th>transactionHour</th>\n",
       "      <th>Transaction_hourly_count</th>\n",
       "    </tr>\n",
       "  </thead>\n",
       "  <tbody>\n",
       "    <tr>\n",
       "      <th>0</th>\n",
       "      <td>1</td>\n",
       "      <td>PAYMENT</td>\n",
       "      <td>9839.64</td>\n",
       "      <td>C1231006815</td>\n",
       "      <td>170136.0</td>\n",
       "      <td>160296.36</td>\n",
       "      <td>M1979787155</td>\n",
       "      <td>0.0</td>\n",
       "      <td>0.0</td>\n",
       "      <td>0</td>\n",
       "      <td>0</td>\n",
       "      <td>2151495</td>\n",
       "      <td>2151495</td>\n",
       "      <td>100.0</td>\n",
       "      <td>1</td>\n",
       "      <td>71587.0</td>\n",
       "    </tr>\n",
       "  </tbody>\n",
       "</table>\n",
       "</div>"
      ],
      "text/plain": [
       "   step     type   amount     nameOrig  oldbalanceOrg  newbalanceOrig  \\\n",
       "0     1  PAYMENT  9839.64  C1231006815       170136.0       160296.36   \n",
       "\n",
       "      nameDest  oldbalanceDest  newbalanceDest  isFraud  isFlaggedFraud  \\\n",
       "0  M1979787155             0.0             0.0        0               0   \n",
       "\n",
       "    Counts  Counts_Overall_type  Percentage  transactionHour  \\\n",
       "0  2151495              2151495       100.0                1   \n",
       "\n",
       "   Transaction_hourly_count  \n",
       "0                   71587.0  "
      ]
     },
     "execution_count": 77,
     "metadata": {},
     "output_type": "execute_result"
    }
   ],
   "source": [
    "data.head(1)"
   ]
  },
  {
   "cell_type": "code",
   "execution_count": 84,
   "id": "comparative-municipality",
   "metadata": {},
   "outputs": [
    {
     "data": {
      "image/png": "[encoded data removed]",
      "text/plain": [
       "<Figure size 1296x432 with 1 Axes>"
      ]
     },
     "metadata": {
      "needs_background": "light"
     },
     "output_type": "display_data"
    }
   ],
   "source": [
    "# reference: https://stackoverflow.com/questions/49059956/pandas-plot-value-counts-barplot-in-descending-manner\n",
    "plt.figure(figsize=(18,6))\n",
    "ax = (data['transactionHour'].value_counts(sort=False, normalize=True) * 100).round(2).plot(kind='bar')\n",
    "for i in ax.patches:\n",
    "    # get_x pulls left or right; get_height pushes up or down\n",
    "    ax.text(i.get_x(), i.get_height(), str(round(i.get_height(), 2)) + \"%\", fontsize=12, color='black')\n",
    "plt.xlabel('Transaction hour', fontsize=10,fontweight='bold')\n",
    "plt.xticks(fontsize=10,fontweight='bold')\n",
    "plt.ylabel('% of observations', fontsize=10,fontweight='bold')\n",
    "plt.yticks(fontsize=10,fontweight='bold')\n",
    "plt.title('No. of observations at each hour', fontsize=20)\n",
    "plt.show()"
   ]
  },
  {
   "cell_type": "markdown",
   "id": "burning-width",
   "metadata": {},
   "source": [
    "# Observations: \n",
    "<b><br> Most of transactions occur between 9 am - 8 pm </br></b>"
   ]
  },
  {
   "cell_type": "code",
   "execution_count": 95,
   "id": "close-claim",
   "metadata": {},
   "outputs": [
    {
     "data": {
      "text/html": [
       "<div>\n",
       "<style scoped>\n",
       "    .dataframe tbody tr th:only-of-type {\n",
       "        vertical-align: middle;\n",
       "    }\n",
       "\n",
       "    .dataframe tbody tr th {\n",
       "        vertical-align: top;\n",
       "    }\n",
       "\n",
       "    .dataframe thead th {\n",
       "        text-align: right;\n",
       "    }\n",
       "</style>\n",
       "<table border=\"1\" class=\"dataframe\">\n",
       "  <thead>\n",
       "    <tr style=\"text-align: right;\">\n",
       "      <th></th>\n",
       "      <th>step</th>\n",
       "      <th>type</th>\n",
       "      <th>amount</th>\n",
       "      <th>nameOrig</th>\n",
       "      <th>oldbalanceOrg</th>\n",
       "      <th>newbalanceOrig</th>\n",
       "      <th>nameDest</th>\n",
       "      <th>oldbalanceDest</th>\n",
       "      <th>newbalanceDest</th>\n",
       "      <th>isFraud</th>\n",
       "      <th>isFlaggedFraud</th>\n",
       "      <th>Counts</th>\n",
       "      <th>Counts_Overall_type</th>\n",
       "      <th>Percentage</th>\n",
       "      <th>transactionHour</th>\n",
       "      <th>Transaction_hourly_count</th>\n",
       "      <th>errorBalanceOrig</th>\n",
       "    </tr>\n",
       "  </thead>\n",
       "  <tbody>\n",
       "    <tr>\n",
       "      <th>0</th>\n",
       "      <td>1</td>\n",
       "      <td>PAYMENT</td>\n",
       "      <td>9839.64</td>\n",
       "      <td>C1231006815</td>\n",
       "      <td>170136.0</td>\n",
       "      <td>160296.36</td>\n",
       "      <td>M1979787155</td>\n",
       "      <td>0.0</td>\n",
       "      <td>0.0</td>\n",
       "      <td>0</td>\n",
       "      <td>0</td>\n",
       "      <td>2151495</td>\n",
       "      <td>2151495</td>\n",
       "      <td>100.0</td>\n",
       "      <td>1</td>\n",
       "      <td>71587.0</td>\n",
       "      <td>0.0</td>\n",
       "    </tr>\n",
       "  </tbody>\n",
       "</table>\n",
       "</div>"
      ],
      "text/plain": [
       "   step     type   amount     nameOrig  oldbalanceOrg  newbalanceOrig  \\\n",
       "0     1  PAYMENT  9839.64  C1231006815       170136.0       160296.36   \n",
       "\n",
       "      nameDest  oldbalanceDest  newbalanceDest  isFraud  isFlaggedFraud  \\\n",
       "0  M1979787155             0.0             0.0        0               0   \n",
       "\n",
       "    Counts  Counts_Overall_type  Percentage  transactionHour  \\\n",
       "0  2151495              2151495       100.0                1   \n",
       "\n",
       "   Transaction_hourly_count  errorBalanceOrig  \n",
       "0                   71587.0               0.0  "
      ]
     },
     "execution_count": 95,
     "metadata": {},
     "output_type": "execute_result"
    }
   ],
   "source": [
    "data.head(1)"
   ]
  },
  {
   "cell_type": "code",
   "execution_count": 96,
   "id": "extra-weather",
   "metadata": {},
   "outputs": [],
   "source": [
    "# For Outgoing transactions \n",
    "# Error=(Amount-OldBalance)+NewBalance should be 0 "
   ]
  },
  {
   "cell_type": "code",
   "execution_count": 97,
   "id": "vocational-auditor",
   "metadata": {},
   "outputs": [],
   "source": [
    "data['errorBalanceOriginal'] = data['amount'] - data['oldbalanceOrg']+ data['newbalanceOrig'] "
   ]
  },
  {
   "cell_type": "code",
   "execution_count": 98,
   "id": "banner-central",
   "metadata": {},
   "outputs": [
    {
     "data": {
      "text/html": [
       "<div>\n",
       "<style scoped>\n",
       "    .dataframe tbody tr th:only-of-type {\n",
       "        vertical-align: middle;\n",
       "    }\n",
       "\n",
       "    .dataframe tbody tr th {\n",
       "        vertical-align: top;\n",
       "    }\n",
       "\n",
       "    .dataframe thead th {\n",
       "        text-align: right;\n",
       "    }\n",
       "</style>\n",
       "<table border=\"1\" class=\"dataframe\">\n",
       "  <thead>\n",
       "    <tr style=\"text-align: right;\">\n",
       "      <th></th>\n",
       "      <th>step</th>\n",
       "      <th>type</th>\n",
       "      <th>amount</th>\n",
       "      <th>nameOrig</th>\n",
       "      <th>oldbalanceOrg</th>\n",
       "      <th>newbalanceOrig</th>\n",
       "      <th>nameDest</th>\n",
       "      <th>oldbalanceDest</th>\n",
       "      <th>newbalanceDest</th>\n",
       "      <th>isFraud</th>\n",
       "      <th>isFlaggedFraud</th>\n",
       "      <th>Counts</th>\n",
       "      <th>Counts_Overall_type</th>\n",
       "      <th>Percentage</th>\n",
       "      <th>transactionHour</th>\n",
       "      <th>Transaction_hourly_count</th>\n",
       "      <th>errorBalanceOrig</th>\n",
       "    </tr>\n",
       "  </thead>\n",
       "  <tbody>\n",
       "    <tr>\n",
       "      <th>0</th>\n",
       "      <td>1</td>\n",
       "      <td>PAYMENT</td>\n",
       "      <td>9839.64</td>\n",
       "      <td>C1231006815</td>\n",
       "      <td>170136.00</td>\n",
       "      <td>160296.36</td>\n",
       "      <td>M1979787155</td>\n",
       "      <td>0.00</td>\n",
       "      <td>0.00</td>\n",
       "      <td>0</td>\n",
       "      <td>0</td>\n",
       "      <td>2151495</td>\n",
       "      <td>2151495</td>\n",
       "      <td>100.000000</td>\n",
       "      <td>1</td>\n",
       "      <td>71587.0</td>\n",
       "      <td>0.0</td>\n",
       "    </tr>\n",
       "    <tr>\n",
       "      <th>1</th>\n",
       "      <td>1</td>\n",
       "      <td>PAYMENT</td>\n",
       "      <td>1864.28</td>\n",
       "      <td>C1666544295</td>\n",
       "      <td>21249.00</td>\n",
       "      <td>19384.72</td>\n",
       "      <td>M2044282225</td>\n",
       "      <td>0.00</td>\n",
       "      <td>0.00</td>\n",
       "      <td>0</td>\n",
       "      <td>0</td>\n",
       "      <td>2151495</td>\n",
       "      <td>2151495</td>\n",
       "      <td>100.000000</td>\n",
       "      <td>1</td>\n",
       "      <td>27111.0</td>\n",
       "      <td>0.0</td>\n",
       "    </tr>\n",
       "    <tr>\n",
       "      <th>2</th>\n",
       "      <td>1</td>\n",
       "      <td>TRANSFER</td>\n",
       "      <td>181.00</td>\n",
       "      <td>C1305486145</td>\n",
       "      <td>181.00</td>\n",
       "      <td>0.00</td>\n",
       "      <td>C553264065</td>\n",
       "      <td>0.00</td>\n",
       "      <td>0.00</td>\n",
       "      <td>1</td>\n",
       "      <td>0</td>\n",
       "      <td>4097</td>\n",
       "      <td>532909</td>\n",
       "      <td>0.768799</td>\n",
       "      <td>1</td>\n",
       "      <td>9018.0</td>\n",
       "      <td>0.0</td>\n",
       "    </tr>\n",
       "    <tr>\n",
       "      <th>3</th>\n",
       "      <td>1</td>\n",
       "      <td>CASH_OUT</td>\n",
       "      <td>181.00</td>\n",
       "      <td>C840083671</td>\n",
       "      <td>181.00</td>\n",
       "      <td>0.00</td>\n",
       "      <td>C38997010</td>\n",
       "      <td>21182.00</td>\n",
       "      <td>0.00</td>\n",
       "      <td>1</td>\n",
       "      <td>0</td>\n",
       "      <td>4116</td>\n",
       "      <td>2237500</td>\n",
       "      <td>0.183955</td>\n",
       "      <td>1</td>\n",
       "      <td>2007.0</td>\n",
       "      <td>0.0</td>\n",
       "    </tr>\n",
       "    <tr>\n",
       "      <th>4</th>\n",
       "      <td>1</td>\n",
       "      <td>PAYMENT</td>\n",
       "      <td>11668.14</td>\n",
       "      <td>C2048537720</td>\n",
       "      <td>41554.00</td>\n",
       "      <td>29885.86</td>\n",
       "      <td>M1230701703</td>\n",
       "      <td>0.00</td>\n",
       "      <td>0.00</td>\n",
       "      <td>0</td>\n",
       "      <td>0</td>\n",
       "      <td>2151495</td>\n",
       "      <td>2151495</td>\n",
       "      <td>100.000000</td>\n",
       "      <td>1</td>\n",
       "      <td>1241.0</td>\n",
       "      <td>0.0</td>\n",
       "    </tr>\n",
       "    <tr>\n",
       "      <th>...</th>\n",
       "      <td>...</td>\n",
       "      <td>...</td>\n",
       "      <td>...</td>\n",
       "      <td>...</td>\n",
       "      <td>...</td>\n",
       "      <td>...</td>\n",
       "      <td>...</td>\n",
       "      <td>...</td>\n",
       "      <td>...</td>\n",
       "      <td>...</td>\n",
       "      <td>...</td>\n",
       "      <td>...</td>\n",
       "      <td>...</td>\n",
       "      <td>...</td>\n",
       "      <td>...</td>\n",
       "      <td>...</td>\n",
       "      <td>...</td>\n",
       "    </tr>\n",
       "    <tr>\n",
       "      <th>6362615</th>\n",
       "      <td>743</td>\n",
       "      <td>CASH_OUT</td>\n",
       "      <td>339682.13</td>\n",
       "      <td>C786484425</td>\n",
       "      <td>339682.13</td>\n",
       "      <td>0.00</td>\n",
       "      <td>C776919290</td>\n",
       "      <td>0.00</td>\n",
       "      <td>339682.13</td>\n",
       "      <td>1</td>\n",
       "      <td>0</td>\n",
       "      <td>4116</td>\n",
       "      <td>2237500</td>\n",
       "      <td>0.183955</td>\n",
       "      <td>23</td>\n",
       "      <td>NaN</td>\n",
       "      <td>0.0</td>\n",
       "    </tr>\n",
       "    <tr>\n",
       "      <th>6362616</th>\n",
       "      <td>743</td>\n",
       "      <td>TRANSFER</td>\n",
       "      <td>6311409.28</td>\n",
       "      <td>C1529008245</td>\n",
       "      <td>6311409.28</td>\n",
       "      <td>0.00</td>\n",
       "      <td>C1881841831</td>\n",
       "      <td>0.00</td>\n",
       "      <td>0.00</td>\n",
       "      <td>1</td>\n",
       "      <td>0</td>\n",
       "      <td>4097</td>\n",
       "      <td>532909</td>\n",
       "      <td>0.768799</td>\n",
       "      <td>23</td>\n",
       "      <td>NaN</td>\n",
       "      <td>0.0</td>\n",
       "    </tr>\n",
       "    <tr>\n",
       "      <th>6362617</th>\n",
       "      <td>743</td>\n",
       "      <td>CASH_OUT</td>\n",
       "      <td>6311409.28</td>\n",
       "      <td>C1162922333</td>\n",
       "      <td>6311409.28</td>\n",
       "      <td>0.00</td>\n",
       "      <td>C1365125890</td>\n",
       "      <td>68488.84</td>\n",
       "      <td>6379898.11</td>\n",
       "      <td>1</td>\n",
       "      <td>0</td>\n",
       "      <td>4116</td>\n",
       "      <td>2237500</td>\n",
       "      <td>0.183955</td>\n",
       "      <td>23</td>\n",
       "      <td>NaN</td>\n",
       "      <td>0.0</td>\n",
       "    </tr>\n",
       "    <tr>\n",
       "      <th>6362618</th>\n",
       "      <td>743</td>\n",
       "      <td>TRANSFER</td>\n",
       "      <td>850002.52</td>\n",
       "      <td>C1685995037</td>\n",
       "      <td>850002.52</td>\n",
       "      <td>0.00</td>\n",
       "      <td>C2080388513</td>\n",
       "      <td>0.00</td>\n",
       "      <td>0.00</td>\n",
       "      <td>1</td>\n",
       "      <td>0</td>\n",
       "      <td>4097</td>\n",
       "      <td>532909</td>\n",
       "      <td>0.768799</td>\n",
       "      <td>23</td>\n",
       "      <td>NaN</td>\n",
       "      <td>0.0</td>\n",
       "    </tr>\n",
       "    <tr>\n",
       "      <th>6362619</th>\n",
       "      <td>743</td>\n",
       "      <td>CASH_OUT</td>\n",
       "      <td>850002.52</td>\n",
       "      <td>C1280323807</td>\n",
       "      <td>850002.52</td>\n",
       "      <td>0.00</td>\n",
       "      <td>C873221189</td>\n",
       "      <td>6510099.11</td>\n",
       "      <td>7360101.63</td>\n",
       "      <td>1</td>\n",
       "      <td>0</td>\n",
       "      <td>4116</td>\n",
       "      <td>2237500</td>\n",
       "      <td>0.183955</td>\n",
       "      <td>23</td>\n",
       "      <td>NaN</td>\n",
       "      <td>0.0</td>\n",
       "    </tr>\n",
       "  </tbody>\n",
       "</table>\n",
       "<p>948623 rows × 17 columns</p>\n",
       "</div>"
      ],
      "text/plain": [
       "         step      type      amount     nameOrig  oldbalanceOrg  \\\n",
       "0           1   PAYMENT     9839.64  C1231006815      170136.00   \n",
       "1           1   PAYMENT     1864.28  C1666544295       21249.00   \n",
       "2           1  TRANSFER      181.00  C1305486145         181.00   \n",
       "3           1  CASH_OUT      181.00   C840083671         181.00   \n",
       "4           1   PAYMENT    11668.14  C2048537720       41554.00   \n",
       "...       ...       ...         ...          ...            ...   \n",
       "6362615   743  CASH_OUT   339682.13   C786484425      339682.13   \n",
       "6362616   743  TRANSFER  6311409.28  C1529008245     6311409.28   \n",
       "6362617   743  CASH_OUT  6311409.28  C1162922333     6311409.28   \n",
       "6362618   743  TRANSFER   850002.52  C1685995037      850002.52   \n",
       "6362619   743  CASH_OUT   850002.52  C1280323807      850002.52   \n",
       "\n",
       "         newbalanceOrig     nameDest  oldbalanceDest  newbalanceDest  isFraud  \\\n",
       "0             160296.36  M1979787155            0.00            0.00        0   \n",
       "1              19384.72  M2044282225            0.00            0.00        0   \n",
       "2                  0.00   C553264065            0.00            0.00        1   \n",
       "3                  0.00    C38997010        21182.00            0.00        1   \n",
       "4              29885.86  M1230701703            0.00            0.00        0   \n",
       "...                 ...          ...             ...             ...      ...   \n",
       "6362615            0.00   C776919290            0.00       339682.13        1   \n",
       "6362616            0.00  C1881841831            0.00            0.00        1   \n",
       "6362617            0.00  C1365125890        68488.84      6379898.11        1   \n",
       "6362618            0.00  C2080388513            0.00            0.00        1   \n",
       "6362619            0.00   C873221189      6510099.11      7360101.63        1   \n",
       "\n",
       "         isFlaggedFraud   Counts  Counts_Overall_type  Percentage  \\\n",
       "0                     0  2151495              2151495  100.000000   \n",
       "1                     0  2151495              2151495  100.000000   \n",
       "2                     0     4097               532909    0.768799   \n",
       "3                     0     4116              2237500    0.183955   \n",
       "4                     0  2151495              2151495  100.000000   \n",
       "...                 ...      ...                  ...         ...   \n",
       "6362615               0     4116              2237500    0.183955   \n",
       "6362616               0     4097               532909    0.768799   \n",
       "6362617               0     4116              2237500    0.183955   \n",
       "6362618               0     4097               532909    0.768799   \n",
       "6362619               0     4116              2237500    0.183955   \n",
       "\n",
       "         transactionHour  Transaction_hourly_count  errorBalanceOrig  \n",
       "0                      1                   71587.0               0.0  \n",
       "1                      1                   27111.0               0.0  \n",
       "2                      1                    9018.0               0.0  \n",
       "3                      1                    2007.0               0.0  \n",
       "4                      1                    1241.0               0.0  \n",
       "...                  ...                       ...               ...  \n",
       "6362615               23                       NaN               0.0  \n",
       "6362616               23                       NaN               0.0  \n",
       "6362617               23                       NaN               0.0  \n",
       "6362618               23                       NaN               0.0  \n",
       "6362619               23                       NaN               0.0  \n",
       "\n",
       "[948623 rows x 17 columns]"
      ]
     },
     "execution_count": 98,
     "metadata": {},
     "output_type": "execute_result"
    }
   ],
   "source": [
    "data[data['errorBalanceOriginal']==0]"
   ]
  },
  {
   "cell_type": "code",
   "execution_count": 100,
   "id": "peripheral-muslim",
   "metadata": {},
   "outputs": [],
   "source": [
    "# Similarly for destination account valid for outgoing transactions only\n",
    "data['errorBalanceDestination'] = data['oldbalanceDest'] + data['amount'] - data['newbalanceDest']"
   ]
  },
  {
   "cell_type": "code",
   "execution_count": 101,
   "id": "ethical-score",
   "metadata": {},
   "outputs": [
    {
     "data": {
      "text/html": [
       "<div>\n",
       "<style scoped>\n",
       "    .dataframe tbody tr th:only-of-type {\n",
       "        vertical-align: middle;\n",
       "    }\n",
       "\n",
       "    .dataframe tbody tr th {\n",
       "        vertical-align: top;\n",
       "    }\n",
       "\n",
       "    .dataframe thead th {\n",
       "        text-align: right;\n",
       "    }\n",
       "</style>\n",
       "<table border=\"1\" class=\"dataframe\">\n",
       "  <thead>\n",
       "    <tr style=\"text-align: right;\">\n",
       "      <th></th>\n",
       "      <th>step</th>\n",
       "      <th>type</th>\n",
       "      <th>amount</th>\n",
       "      <th>nameOrig</th>\n",
       "      <th>oldbalanceOrg</th>\n",
       "      <th>newbalanceOrig</th>\n",
       "      <th>nameDest</th>\n",
       "      <th>oldbalanceDest</th>\n",
       "      <th>newbalanceDest</th>\n",
       "      <th>isFraud</th>\n",
       "      <th>isFlaggedFraud</th>\n",
       "      <th>Counts</th>\n",
       "      <th>Counts_Overall_type</th>\n",
       "      <th>Percentage</th>\n",
       "      <th>transactionHour</th>\n",
       "      <th>Transaction_hourly_count</th>\n",
       "      <th>errorBalanceOrig</th>\n",
       "      <th>errorBalanceDestination</th>\n",
       "    </tr>\n",
       "  </thead>\n",
       "  <tbody>\n",
       "    <tr>\n",
       "      <th>0</th>\n",
       "      <td>1</td>\n",
       "      <td>PAYMENT</td>\n",
       "      <td>9839.64</td>\n",
       "      <td>C1231006815</td>\n",
       "      <td>170136.0</td>\n",
       "      <td>160296.36</td>\n",
       "      <td>M1979787155</td>\n",
       "      <td>0.0</td>\n",
       "      <td>0.0</td>\n",
       "      <td>0</td>\n",
       "      <td>0</td>\n",
       "      <td>2151495</td>\n",
       "      <td>2151495</td>\n",
       "      <td>100.0</td>\n",
       "      <td>1</td>\n",
       "      <td>71587.0</td>\n",
       "      <td>0.0</td>\n",
       "      <td>9839.64</td>\n",
       "    </tr>\n",
       "  </tbody>\n",
       "</table>\n",
       "</div>"
      ],
      "text/plain": [
       "   step     type   amount     nameOrig  oldbalanceOrg  newbalanceOrig  \\\n",
       "0     1  PAYMENT  9839.64  C1231006815       170136.0       160296.36   \n",
       "\n",
       "      nameDest  oldbalanceDest  newbalanceDest  isFraud  isFlaggedFraud  \\\n",
       "0  M1979787155             0.0             0.0        0               0   \n",
       "\n",
       "    Counts  Counts_Overall_type  Percentage  transactionHour  \\\n",
       "0  2151495              2151495       100.0                1   \n",
       "\n",
       "   Transaction_hourly_count  errorBalanceOrig  errorBalanceDestination  \n",
       "0                   71587.0               0.0                  9839.64  "
      ]
     },
     "execution_count": 101,
     "metadata": {},
     "output_type": "execute_result"
    }
   ],
   "source": [
    "data.head(1)"
   ]
  },
  {
   "cell_type": "code",
   "execution_count": 102,
   "id": "architectural-montana",
   "metadata": {},
   "outputs": [],
   "source": [
    "# Understanding more about Fraud Cases \n",
    "data1=data[data['isFraud']==1]"
   ]
  },
  {
   "cell_type": "code",
   "execution_count": 104,
   "id": "previous-austria",
   "metadata": {},
   "outputs": [],
   "source": [
    "# Checking if old balance original and new balance original wrt Fraud Cases\n",
    "# Reference: https://stackoverflow.com/questions/22591174/pandas-multiple-conditions-while-indexing-data-frame-unexpected-behavior\n",
    "data2=data1[(data1['oldbalanceOrg']==0) & (data1['newbalanceOrig']==0)]"
   ]
  },
  {
   "cell_type": "code",
   "execution_count": 106,
   "id": "polish-significance",
   "metadata": {},
   "outputs": [
    {
     "data": {
      "text/plain": [
       "41"
      ]
     },
     "execution_count": 106,
     "metadata": {},
     "output_type": "execute_result"
    }
   ],
   "source": [
    "len(data2)"
   ]
  },
  {
   "cell_type": "code",
   "execution_count": 107,
   "id": "competitive-scotland",
   "metadata": {},
   "outputs": [
    {
     "data": {
      "text/plain": [
       "8213"
      ]
     },
     "execution_count": 107,
     "metadata": {},
     "output_type": "execute_result"
    }
   ],
   "source": [
    "len(data1)"
   ]
  },
  {
   "cell_type": "code",
   "execution_count": 108,
   "id": "cosmetic-financing",
   "metadata": {},
   "outputs": [
    {
     "data": {
      "text/plain": [
       "0.00499208571776452"
      ]
     },
     "execution_count": 108,
     "metadata": {},
     "output_type": "execute_result"
    }
   ],
   "source": [
    "41/8213"
   ]
  },
  {
   "cell_type": "markdown",
   "id": "injured-navigation",
   "metadata": {},
   "source": [
    "# Observations:\n",
    "<br> 0.5% of total fraud cases occur when Old And New Balance Original are 0</br>"
   ]
  },
  {
   "cell_type": "code",
   "execution_count": 110,
   "id": "swiss-gates",
   "metadata": {},
   "outputs": [],
   "source": [
    "# Checking if old balance original and new balance original wrt Fraud Cases\n",
    "# Reference: https://stackoverflow.com/questions/22591174/pandas-multiple-conditions-while-indexing-data-frame-unexpected-behavior\n",
    "data3=data1[(data1['oldbalanceDest']==0) & (data1['newbalanceDest']==0)]"
   ]
  },
  {
   "cell_type": "code",
   "execution_count": 111,
   "id": "initial-immunology",
   "metadata": {},
   "outputs": [
    {
     "data": {
      "text/plain": [
       "4076"
      ]
     },
     "execution_count": 111,
     "metadata": {},
     "output_type": "execute_result"
    }
   ],
   "source": [
    "len(data3)"
   ]
  },
  {
   "cell_type": "code",
   "execution_count": 112,
   "id": "injured-auction",
   "metadata": {},
   "outputs": [
    {
     "data": {
      "text/plain": [
       "0.49628637525873615"
      ]
     },
     "execution_count": 112,
     "metadata": {},
     "output_type": "execute_result"
    }
   ],
   "source": [
    "4076/8213"
   ]
  },
  {
   "cell_type": "markdown",
   "id": "muslim-association",
   "metadata": {},
   "source": [
    "# Observations:\n",
    "<br> Around 50% of total fraud points are when Old and New Destination is 0 </br>"
   ]
  },
  {
   "cell_type": "code",
   "execution_count": 113,
   "id": "southeast-upset",
   "metadata": {},
   "outputs": [
    {
     "data": {
      "text/html": [
       "<div>\n",
       "<style scoped>\n",
       "    .dataframe tbody tr th:only-of-type {\n",
       "        vertical-align: middle;\n",
       "    }\n",
       "\n",
       "    .dataframe tbody tr th {\n",
       "        vertical-align: top;\n",
       "    }\n",
       "\n",
       "    .dataframe thead th {\n",
       "        text-align: right;\n",
       "    }\n",
       "</style>\n",
       "<table border=\"1\" class=\"dataframe\">\n",
       "  <thead>\n",
       "    <tr style=\"text-align: right;\">\n",
       "      <th></th>\n",
       "      <th>step</th>\n",
       "      <th>type</th>\n",
       "      <th>amount</th>\n",
       "      <th>nameOrig</th>\n",
       "      <th>oldbalanceOrg</th>\n",
       "      <th>newbalanceOrig</th>\n",
       "      <th>nameDest</th>\n",
       "      <th>oldbalanceDest</th>\n",
       "      <th>newbalanceDest</th>\n",
       "      <th>isFraud</th>\n",
       "      <th>isFlaggedFraud</th>\n",
       "      <th>Counts</th>\n",
       "      <th>Counts_Overall_type</th>\n",
       "      <th>Percentage</th>\n",
       "      <th>transactionHour</th>\n",
       "      <th>Transaction_hourly_count</th>\n",
       "      <th>errorBalanceOrig</th>\n",
       "      <th>errorBalanceDestination</th>\n",
       "    </tr>\n",
       "  </thead>\n",
       "  <tbody>\n",
       "    <tr>\n",
       "      <th>0</th>\n",
       "      <td>1</td>\n",
       "      <td>PAYMENT</td>\n",
       "      <td>9839.64</td>\n",
       "      <td>C1231006815</td>\n",
       "      <td>170136.00</td>\n",
       "      <td>160296.36</td>\n",
       "      <td>M1979787155</td>\n",
       "      <td>0.00</td>\n",
       "      <td>0.00</td>\n",
       "      <td>0</td>\n",
       "      <td>0</td>\n",
       "      <td>2151495</td>\n",
       "      <td>2151495</td>\n",
       "      <td>100.000000</td>\n",
       "      <td>1</td>\n",
       "      <td>71587.0</td>\n",
       "      <td>0.0</td>\n",
       "      <td>9.839640e+03</td>\n",
       "    </tr>\n",
       "    <tr>\n",
       "      <th>1</th>\n",
       "      <td>1</td>\n",
       "      <td>PAYMENT</td>\n",
       "      <td>1864.28</td>\n",
       "      <td>C1666544295</td>\n",
       "      <td>21249.00</td>\n",
       "      <td>19384.72</td>\n",
       "      <td>M2044282225</td>\n",
       "      <td>0.00</td>\n",
       "      <td>0.00</td>\n",
       "      <td>0</td>\n",
       "      <td>0</td>\n",
       "      <td>2151495</td>\n",
       "      <td>2151495</td>\n",
       "      <td>100.000000</td>\n",
       "      <td>1</td>\n",
       "      <td>27111.0</td>\n",
       "      <td>0.0</td>\n",
       "      <td>1.864280e+03</td>\n",
       "    </tr>\n",
       "    <tr>\n",
       "      <th>2</th>\n",
       "      <td>1</td>\n",
       "      <td>TRANSFER</td>\n",
       "      <td>181.00</td>\n",
       "      <td>C1305486145</td>\n",
       "      <td>181.00</td>\n",
       "      <td>0.00</td>\n",
       "      <td>C553264065</td>\n",
       "      <td>0.00</td>\n",
       "      <td>0.00</td>\n",
       "      <td>1</td>\n",
       "      <td>0</td>\n",
       "      <td>4097</td>\n",
       "      <td>532909</td>\n",
       "      <td>0.768799</td>\n",
       "      <td>1</td>\n",
       "      <td>9018.0</td>\n",
       "      <td>0.0</td>\n",
       "      <td>1.810000e+02</td>\n",
       "    </tr>\n",
       "    <tr>\n",
       "      <th>3</th>\n",
       "      <td>1</td>\n",
       "      <td>CASH_OUT</td>\n",
       "      <td>181.00</td>\n",
       "      <td>C840083671</td>\n",
       "      <td>181.00</td>\n",
       "      <td>0.00</td>\n",
       "      <td>C38997010</td>\n",
       "      <td>21182.00</td>\n",
       "      <td>0.00</td>\n",
       "      <td>1</td>\n",
       "      <td>0</td>\n",
       "      <td>4116</td>\n",
       "      <td>2237500</td>\n",
       "      <td>0.183955</td>\n",
       "      <td>1</td>\n",
       "      <td>2007.0</td>\n",
       "      <td>0.0</td>\n",
       "      <td>2.136300e+04</td>\n",
       "    </tr>\n",
       "    <tr>\n",
       "      <th>4</th>\n",
       "      <td>1</td>\n",
       "      <td>PAYMENT</td>\n",
       "      <td>11668.14</td>\n",
       "      <td>C2048537720</td>\n",
       "      <td>41554.00</td>\n",
       "      <td>29885.86</td>\n",
       "      <td>M1230701703</td>\n",
       "      <td>0.00</td>\n",
       "      <td>0.00</td>\n",
       "      <td>0</td>\n",
       "      <td>0</td>\n",
       "      <td>2151495</td>\n",
       "      <td>2151495</td>\n",
       "      <td>100.000000</td>\n",
       "      <td>1</td>\n",
       "      <td>1241.0</td>\n",
       "      <td>0.0</td>\n",
       "      <td>1.166814e+04</td>\n",
       "    </tr>\n",
       "    <tr>\n",
       "      <th>...</th>\n",
       "      <td>...</td>\n",
       "      <td>...</td>\n",
       "      <td>...</td>\n",
       "      <td>...</td>\n",
       "      <td>...</td>\n",
       "      <td>...</td>\n",
       "      <td>...</td>\n",
       "      <td>...</td>\n",
       "      <td>...</td>\n",
       "      <td>...</td>\n",
       "      <td>...</td>\n",
       "      <td>...</td>\n",
       "      <td>...</td>\n",
       "      <td>...</td>\n",
       "      <td>...</td>\n",
       "      <td>...</td>\n",
       "      <td>...</td>\n",
       "      <td>...</td>\n",
       "    </tr>\n",
       "    <tr>\n",
       "      <th>6362615</th>\n",
       "      <td>743</td>\n",
       "      <td>CASH_OUT</td>\n",
       "      <td>339682.13</td>\n",
       "      <td>C786484425</td>\n",
       "      <td>339682.13</td>\n",
       "      <td>0.00</td>\n",
       "      <td>C776919290</td>\n",
       "      <td>0.00</td>\n",
       "      <td>339682.13</td>\n",
       "      <td>1</td>\n",
       "      <td>0</td>\n",
       "      <td>4116</td>\n",
       "      <td>2237500</td>\n",
       "      <td>0.183955</td>\n",
       "      <td>23</td>\n",
       "      <td>NaN</td>\n",
       "      <td>0.0</td>\n",
       "      <td>0.000000e+00</td>\n",
       "    </tr>\n",
       "    <tr>\n",
       "      <th>6362616</th>\n",
       "      <td>743</td>\n",
       "      <td>TRANSFER</td>\n",
       "      <td>6311409.28</td>\n",
       "      <td>C1529008245</td>\n",
       "      <td>6311409.28</td>\n",
       "      <td>0.00</td>\n",
       "      <td>C1881841831</td>\n",
       "      <td>0.00</td>\n",
       "      <td>0.00</td>\n",
       "      <td>1</td>\n",
       "      <td>0</td>\n",
       "      <td>4097</td>\n",
       "      <td>532909</td>\n",
       "      <td>0.768799</td>\n",
       "      <td>23</td>\n",
       "      <td>NaN</td>\n",
       "      <td>0.0</td>\n",
       "      <td>6.311409e+06</td>\n",
       "    </tr>\n",
       "    <tr>\n",
       "      <th>6362617</th>\n",
       "      <td>743</td>\n",
       "      <td>CASH_OUT</td>\n",
       "      <td>6311409.28</td>\n",
       "      <td>C1162922333</td>\n",
       "      <td>6311409.28</td>\n",
       "      <td>0.00</td>\n",
       "      <td>C1365125890</td>\n",
       "      <td>68488.84</td>\n",
       "      <td>6379898.11</td>\n",
       "      <td>1</td>\n",
       "      <td>0</td>\n",
       "      <td>4116</td>\n",
       "      <td>2237500</td>\n",
       "      <td>0.183955</td>\n",
       "      <td>23</td>\n",
       "      <td>NaN</td>\n",
       "      <td>0.0</td>\n",
       "      <td>1.000000e-02</td>\n",
       "    </tr>\n",
       "    <tr>\n",
       "      <th>6362618</th>\n",
       "      <td>743</td>\n",
       "      <td>TRANSFER</td>\n",
       "      <td>850002.52</td>\n",
       "      <td>C1685995037</td>\n",
       "      <td>850002.52</td>\n",
       "      <td>0.00</td>\n",
       "      <td>C2080388513</td>\n",
       "      <td>0.00</td>\n",
       "      <td>0.00</td>\n",
       "      <td>1</td>\n",
       "      <td>0</td>\n",
       "      <td>4097</td>\n",
       "      <td>532909</td>\n",
       "      <td>0.768799</td>\n",
       "      <td>23</td>\n",
       "      <td>NaN</td>\n",
       "      <td>0.0</td>\n",
       "      <td>8.500025e+05</td>\n",
       "    </tr>\n",
       "    <tr>\n",
       "      <th>6362619</th>\n",
       "      <td>743</td>\n",
       "      <td>CASH_OUT</td>\n",
       "      <td>850002.52</td>\n",
       "      <td>C1280323807</td>\n",
       "      <td>850002.52</td>\n",
       "      <td>0.00</td>\n",
       "      <td>C873221189</td>\n",
       "      <td>6510099.11</td>\n",
       "      <td>7360101.63</td>\n",
       "      <td>1</td>\n",
       "      <td>0</td>\n",
       "      <td>4116</td>\n",
       "      <td>2237500</td>\n",
       "      <td>0.183955</td>\n",
       "      <td>23</td>\n",
       "      <td>NaN</td>\n",
       "      <td>0.0</td>\n",
       "      <td>9.313226e-10</td>\n",
       "    </tr>\n",
       "  </tbody>\n",
       "</table>\n",
       "<p>6362620 rows × 18 columns</p>\n",
       "</div>"
      ],
      "text/plain": [
       "         step      type      amount     nameOrig  oldbalanceOrg  \\\n",
       "0           1   PAYMENT     9839.64  C1231006815      170136.00   \n",
       "1           1   PAYMENT     1864.28  C1666544295       21249.00   \n",
       "2           1  TRANSFER      181.00  C1305486145         181.00   \n",
       "3           1  CASH_OUT      181.00   C840083671         181.00   \n",
       "4           1   PAYMENT    11668.14  C2048537720       41554.00   \n",
       "...       ...       ...         ...          ...            ...   \n",
       "6362615   743  CASH_OUT   339682.13   C786484425      339682.13   \n",
       "6362616   743  TRANSFER  6311409.28  C1529008245     6311409.28   \n",
       "6362617   743  CASH_OUT  6311409.28  C1162922333     6311409.28   \n",
       "6362618   743  TRANSFER   850002.52  C1685995037      850002.52   \n",
       "6362619   743  CASH_OUT   850002.52  C1280323807      850002.52   \n",
       "\n",
       "         newbalanceOrig     nameDest  oldbalanceDest  newbalanceDest  isFraud  \\\n",
       "0             160296.36  M1979787155            0.00            0.00        0   \n",
       "1              19384.72  M2044282225            0.00            0.00        0   \n",
       "2                  0.00   C553264065            0.00            0.00        1   \n",
       "3                  0.00    C38997010        21182.00            0.00        1   \n",
       "4              29885.86  M1230701703            0.00            0.00        0   \n",
       "...                 ...          ...             ...             ...      ...   \n",
       "6362615            0.00   C776919290            0.00       339682.13        1   \n",
       "6362616            0.00  C1881841831            0.00            0.00        1   \n",
       "6362617            0.00  C1365125890        68488.84      6379898.11        1   \n",
       "6362618            0.00  C2080388513            0.00            0.00        1   \n",
       "6362619            0.00   C873221189      6510099.11      7360101.63        1   \n",
       "\n",
       "         isFlaggedFraud   Counts  Counts_Overall_type  Percentage  \\\n",
       "0                     0  2151495              2151495  100.000000   \n",
       "1                     0  2151495              2151495  100.000000   \n",
       "2                     0     4097               532909    0.768799   \n",
       "3                     0     4116              2237500    0.183955   \n",
       "4                     0  2151495              2151495  100.000000   \n",
       "...                 ...      ...                  ...         ...   \n",
       "6362615               0     4116              2237500    0.183955   \n",
       "6362616               0     4097               532909    0.768799   \n",
       "6362617               0     4116              2237500    0.183955   \n",
       "6362618               0     4097               532909    0.768799   \n",
       "6362619               0     4116              2237500    0.183955   \n",
       "\n",
       "         transactionHour  Transaction_hourly_count  errorBalanceOrig  \\\n",
       "0                      1                   71587.0               0.0   \n",
       "1                      1                   27111.0               0.0   \n",
       "2                      1                    9018.0               0.0   \n",
       "3                      1                    2007.0               0.0   \n",
       "4                      1                    1241.0               0.0   \n",
       "...                  ...                       ...               ...   \n",
       "6362615               23                       NaN               0.0   \n",
       "6362616               23                       NaN               0.0   \n",
       "6362617               23                       NaN               0.0   \n",
       "6362618               23                       NaN               0.0   \n",
       "6362619               23                       NaN               0.0   \n",
       "\n",
       "         errorBalanceDestination  \n",
       "0                   9.839640e+03  \n",
       "1                   1.864280e+03  \n",
       "2                   1.810000e+02  \n",
       "3                   2.136300e+04  \n",
       "4                   1.166814e+04  \n",
       "...                          ...  \n",
       "6362615             0.000000e+00  \n",
       "6362616             6.311409e+06  \n",
       "6362617             1.000000e-02  \n",
       "6362618             8.500025e+05  \n",
       "6362619             9.313226e-10  \n",
       "\n",
       "[6362620 rows x 18 columns]"
      ]
     },
     "execution_count": 113,
     "metadata": {},
     "output_type": "execute_result"
    }
   ],
   "source": [
    "data"
   ]
  },
  {
   "cell_type": "code",
   "execution_count": 114,
   "id": "clear-montana",
   "metadata": {},
   "outputs": [],
   "source": [
    "\n",
    "X=data[['type','amount','nameOrig','oldbalanceOrg','newbalanceOrig','nameDest','oldbalanceDest','newbalanceDest','transactionHour','errorBalanceOrig','errorBalanceDestination']]\n",
    "y=data['isFraud'].values"
   ]
  },
  {
   "cell_type": "code",
   "execution_count": 115,
   "id": "twenty-collapse",
   "metadata": {},
   "outputs": [
    {
     "data": {
      "text/html": [
       "<div>\n",
       "<style scoped>\n",
       "    .dataframe tbody tr th:only-of-type {\n",
       "        vertical-align: middle;\n",
       "    }\n",
       "\n",
       "    .dataframe tbody tr th {\n",
       "        vertical-align: top;\n",
       "    }\n",
       "\n",
       "    .dataframe thead th {\n",
       "        text-align: right;\n",
       "    }\n",
       "</style>\n",
       "<table border=\"1\" class=\"dataframe\">\n",
       "  <thead>\n",
       "    <tr style=\"text-align: right;\">\n",
       "      <th></th>\n",
       "      <th>type</th>\n",
       "      <th>amount</th>\n",
       "      <th>nameOrig</th>\n",
       "      <th>oldbalanceOrg</th>\n",
       "      <th>newbalanceOrig</th>\n",
       "      <th>nameDest</th>\n",
       "      <th>oldbalanceDest</th>\n",
       "      <th>newbalanceDest</th>\n",
       "      <th>transactionHour</th>\n",
       "      <th>errorBalanceOrig</th>\n",
       "      <th>errorBalanceDestination</th>\n",
       "    </tr>\n",
       "  </thead>\n",
       "  <tbody>\n",
       "    <tr>\n",
       "      <th>0</th>\n",
       "      <td>PAYMENT</td>\n",
       "      <td>9839.64</td>\n",
       "      <td>C1231006815</td>\n",
       "      <td>170136.0</td>\n",
       "      <td>160296.36</td>\n",
       "      <td>M1979787155</td>\n",
       "      <td>0.0</td>\n",
       "      <td>0.0</td>\n",
       "      <td>1</td>\n",
       "      <td>0.0</td>\n",
       "      <td>9839.64</td>\n",
       "    </tr>\n",
       "  </tbody>\n",
       "</table>\n",
       "</div>"
      ],
      "text/plain": [
       "      type   amount     nameOrig  oldbalanceOrg  newbalanceOrig     nameDest  \\\n",
       "0  PAYMENT  9839.64  C1231006815       170136.0       160296.36  M1979787155   \n",
       "\n",
       "   oldbalanceDest  newbalanceDest  transactionHour  errorBalanceOrig  \\\n",
       "0             0.0             0.0                1               0.0   \n",
       "\n",
       "   errorBalanceDestination  \n",
       "0                  9839.64  "
      ]
     },
     "execution_count": 115,
     "metadata": {},
     "output_type": "execute_result"
    }
   ],
   "source": [
    "X.head(1)"
   ]
  },
  {
   "cell_type": "code",
   "execution_count": 131,
   "id": "intelligent-exhibit",
   "metadata": {},
   "outputs": [],
   "source": [
    "# Splitting Train Test data\n",
    "from sklearn.model_selection import train_test_split\n",
    "X_train, X_test, y_train, y_test = train_test_split(X, y, test_size=0.20, stratify=y,random_state=1)"
   ]
  },
  {
   "cell_type": "markdown",
   "id": "adjusted-flight",
   "metadata": {},
   "source": [
    "# Type encoding"
   ]
  },
  {
   "cell_type": "code",
   "execution_count": 132,
   "id": "intellectual-lingerie",
   "metadata": {},
   "outputs": [
    {
     "name": "stdout",
     "output_type": "stream",
     "text": [
      "5\n"
     ]
    }
   ],
   "source": [
    "# Knowing unique values in school_state\n",
    "print(len(X_train['type'].unique()))\n"
   ]
  },
  {
   "cell_type": "code",
   "execution_count": 133,
   "id": "different-league",
   "metadata": {},
   "outputs": [
    {
     "data": {
      "text/plain": [
       "(5090096,)"
      ]
     },
     "execution_count": 133,
     "metadata": {},
     "output_type": "execute_result"
    }
   ],
   "source": [
    "# Encode the column using label encoding\n",
    "from sklearn.preprocessing import LabelEncoder\n",
    "labelencoder=LabelEncoder()\n",
    "encoded_train_type=labelencoder.fit_transform(X_train['type'])\n",
    "encoded_train_type.shape"
   ]
  },
  {
   "cell_type": "code",
   "execution_count": 134,
   "id": "understood-stream",
   "metadata": {},
   "outputs": [
    {
     "data": {
      "text/plain": [
       "(1272524,)"
      ]
     },
     "execution_count": 134,
     "metadata": {},
     "output_type": "execute_result"
    }
   ],
   "source": [
    "# Similarly do for test data \n",
    "encoded_test_type=labelencoder.transform(X_test['type'])\n",
    "encoded_test_type.shape"
   ]
  },
  {
   "cell_type": "markdown",
   "id": "understood-haiti",
   "metadata": {},
   "source": [
    "# Encoding all Numerical Features"
   ]
  },
  {
   "cell_type": "code",
   "execution_count": 175,
   "id": "sustainable-manor",
   "metadata": {},
   "outputs": [],
   "source": [
    "# Train data for  numerical columns\n",
    "X_train_amount = X_train['amount'].values.reshape(-1,1)\n",
    "X_train_oldbalanceOrg = X_train['oldbalanceOrg'].values.reshape(-1,1)\n",
    "X_train_newbalanceOrig = X_train['newbalanceOrig'].values.reshape(-1,1)\n",
    "X_train_oldbalanceDest = X_train['oldbalanceDest'].values.reshape(-1,1)\n",
    "X_train_newbalanceDest = X_train['newbalanceDest'].values.reshape(-1,1)\n",
    "X_train_transactionHour = X_train['transactionHour'].values.reshape(-1,1)\n",
    "X_train_errorBalanceOrig = X_train['errorBalanceOrig'].values.reshape(-1,1)\n",
    "X_train_errorBalanceDestination = X_train['errorBalanceDestination'].values.reshape(-1,1)\n",
    "\n",
    "# Test data for  numerical columns\n",
    "X_test_amount = X_test['amount'].values.reshape(-1,1)\n",
    "X_test_oldbalanceOrg = X_test['oldbalanceOrg'].values.reshape(-1,1)\n",
    "X_test_newbalanceOrig = X_test['newbalanceOrig'].values.reshape(-1,1)\n",
    "X_test_oldbalanceDest = X_test['oldbalanceDest'].values.reshape(-1,1)\n",
    "X_test_newbalanceDest = X_test['newbalanceDest'].values.reshape(-1,1)\n",
    "X_test_transactionHour = X_test['transactionHour'].values.reshape(-1,1)\n",
    "X_test_errorBalanceOrig = X_test['errorBalanceOrig'].values.reshape(-1,1)\n",
    "X_test_errorBalanceDestination = X_test['errorBalanceDestination'].values.reshape(-1,1)\n",
    "\n",
    "# Concatenating 2 numerical columns for train and test data\n",
    "numerical_feat_train = np.concatenate((X_train_amount, X_train_oldbalanceOrg,X_train_newbalanceOrig,X_train_oldbalanceDest, X_train_newbalanceDest, X_train_transactionHour, X_train_errorBalanceOrig, X_train_errorBalanceDestination), axis=1) # column wise\n",
    "numerical_feat_test = np.concatenate((X_test_amount, X_test_oldbalanceOrg,X_test_newbalanceOrig, X_test_oldbalanceDest, X_test_newbalanceDest,X_test_transactionHour, X_test_errorBalanceOrig, X_test_errorBalanceDestination ), axis=1) # Column wise\n",
    "\n",
    "from sklearn.preprocessing import Normalizer\n",
    "normalizer = Normalizer()\n",
    "numeric_norm_train = normalizer.fit_transform(numerical_feat_train)\n",
    "numeric_norm_test = normalizer.transform(numerical_feat_test)"
   ]
  },
  {
   "cell_type": "code",
   "execution_count": 176,
   "id": "genuine-correction",
   "metadata": {},
   "outputs": [
    {
     "data": {
      "text/plain": [
       "(5090096, 8)"
      ]
     },
     "execution_count": 176,
     "metadata": {},
     "output_type": "execute_result"
    }
   ],
   "source": [
    "numeric_norm_train.shape"
   ]
  },
  {
   "cell_type": "code",
   "execution_count": 177,
   "id": "large-provision",
   "metadata": {},
   "outputs": [],
   "source": [
    "train_type = np.expand_dims(encoded_train_type, axis=1)\n",
    "test_type=np.expand_dims(encoded_test_type, axis=1)"
   ]
  },
  {
   "cell_type": "code",
   "execution_count": 178,
   "id": "fewer-chosen",
   "metadata": {},
   "outputs": [],
   "source": [
    "# Concatenate all features\n",
    "x=np.concatenate((train_type,numeric_norm_train), axis=1)\n",
    "y=np.concatenate((test_type,numeric_norm_test), axis=1)"
   ]
  },
  {
   "cell_type": "code",
   "execution_count": 179,
   "id": "coastal-transmission",
   "metadata": {},
   "outputs": [
    {
     "data": {
      "text/plain": [
       "(1272524, 9)"
      ]
     },
     "execution_count": 179,
     "metadata": {},
     "output_type": "execute_result"
    }
   ],
   "source": [
    "y.shape"
   ]
  },
  {
   "cell_type": "code",
   "execution_count": 151,
   "id": "spatial-estimate",
   "metadata": {},
   "outputs": [],
   "source": [
    "def batch_predict(clf, data):\n",
    "    # roc_auc_score(y_true, y_score) the 2nd parameter should be probability estimates of the positive class\n",
    "    # not the predicted outputs\n",
    "\n",
    "    y_data_pred = []\n",
    "    tr_loop = data.shape[0] - data.shape[0]%1000\n",
    "    # consider you X_tr shape is 49041, then your tr_loop will be 49041 - 49041%1000 = 49000\n",
    "    # in this for loop we will iterate unti the last 1000 multiplier\n",
    "    for i in range(0, tr_loop, 1000):\n",
    "        y_data_pred.extend(clf.predict_proba(data[i:i+1000])[:,1])\n",
    "    # we will be predicting for the last data points\n",
    "    if data.shape[0]%1000 !=0:\n",
    "        y_data_pred.extend(clf.predict_proba(data[tr_loop:])[:,1])\n",
    "    \n",
    "    return y_data_pred"
   ]
  },
  {
   "cell_type": "code",
   "execution_count": 152,
   "id": "beginning-remark",
   "metadata": {},
   "outputs": [
    {
     "data": {
      "image/png": "[encoded data removed]",
      "text/plain": [
       "<Figure size 432x288 with 1 Axes>"
      ]
     },
     "metadata": {
      "needs_background": "light"
     },
     "output_type": "display_data"
    }
   ],
   "source": [
    "# https://scikit-learn.org/stable/modules/generated/sklearn.metrics.roc_curve.html#sklearn.metrics.roc_curve\n",
    "from sklearn.metrics import roc_curve, auc\n",
    "# Classifier with parameter\n",
    "est1=RandomForestClassifier(n_jobs=-1, bootstrap=False, criterion='gini', max_depth= 8,min_samples_leaf= 5, n_estimators= 100)\n",
    "est1.fit(x, y_train)\n",
    "# roc_auc_score(y_true, y_score) the 2nd parameter should be probability estimates of the positive class\n",
    "# not the predicted outputs\n",
    "\n",
    "y_train_pred = batch_predict(est1, x)    \n",
    "y_test_pred = batch_predict(est1, y)\n",
    "\n",
    "train_fpr, train_tpr, tr_thresholds = roc_curve(y_train, y_train_pred)\n",
    "test_fpr, test_tpr, te_thresholds = roc_curve(y_test, y_test_pred)\n",
    "\n",
    "plt.plot(train_fpr, train_tpr, label=\"train AUC =\"+str(auc(train_fpr, train_tpr)))\n",
    "plt.plot(test_fpr, test_tpr, label=\"test AUC =\"+str(auc(test_fpr, test_tpr)))\n",
    "plt.legend()\n",
    "plt.xlabel(\"False Positive Rate\")\n",
    "plt.ylabel(\"True Positive Rate\")\n",
    "plt.title(\"ERROR PLOTS\")\n",
    "plt.grid()\n",
    "plt.show()"
   ]
  },
  {
   "cell_type": "markdown",
   "id": "genetic-slovak",
   "metadata": {},
   "source": [
    "# Observations:\n",
    "<br><b> Test AUC is 99.96 % meaning an given point the model will predict it correctly as Valid or Invalid Transactions by 99.96% </br></b>"
   ]
  },
  {
   "cell_type": "code",
   "execution_count": 205,
   "id": "virtual-profession",
   "metadata": {},
   "outputs": [
    {
     "data": {
      "text/plain": [
       "0.9999944991214311"
      ]
     },
     "execution_count": 205,
     "metadata": {},
     "output_type": "execute_result"
    }
   ],
   "source": [
    "# Accuracy \n",
    "y_pred=est1.predict(y) # predicting the data on test data points\n",
    "y_pred #\n",
    "from sklearn.metrics import accuracy_score\n",
    "accuracy_score(y_test,y_pred)"
   ]
  },
  {
   "cell_type": "code",
   "execution_count": 184,
   "id": "final-jerusalem",
   "metadata": {},
   "outputs": [
    {
     "name": "stdout",
     "output_type": "stream",
     "text": [
      "Feature: 0, Score: 0.03333\n",
      "Feature: 1, Score: 0.14346\n",
      "Feature: 2, Score: 0.08135\n",
      "Feature: 3, Score: 0.38372\n",
      "Feature: 4, Score: 0.01611\n",
      "Feature: 5, Score: 0.10666\n",
      "Feature: 6, Score: 0.01517\n",
      "Feature: 7, Score: 0.13052\n",
      "Feature: 8, Score: 0.08967\n"
     ]
    }
   ],
   "source": [
    "# Reference: https://machinelearningmastery.com/calculate-feature-importance-with-python/\n",
    "# getting feature importance \n",
    "importance=est1.feature_importances_\n",
    "for i,v in enumerate(importance):\n",
    "    print('Feature: %0d, Score: %.5f'%(i,v))"
   ]
  },
  {
   "cell_type": "markdown",
   "id": "mature-glance",
   "metadata": {},
   "source": [
    "# Observations:\n",
    "<br>X_train_amount , X_train_newbalanceOrig, X_train_newbalanceDest and X_train_errorBalanceOrig are the best features for Model prediction , can use these subset of features for only Model Building and Prediction and see the results</br>"
   ]
  },
  {
   "cell_type": "code",
   "execution_count": 206,
   "id": "nasty-think",
   "metadata": {},
   "outputs": [
    {
     "data": {
      "image/png": "[encoded data removed]",
      "text/plain": [
       "<Figure size 432x288 with 2 Axes>"
      ]
     },
     "metadata": {
      "needs_background": "light"
     },
     "output_type": "display_data"
    },
    {
     "data": {
      "text/plain": [
       "array([[1270880,       1],\n",
       "       [      6,    1637]], dtype=int64)"
      ]
     },
     "execution_count": 206,
     "metadata": {},
     "output_type": "execute_result"
    }
   ],
   "source": [
    "from sklearn.metrics import confusion_matrix\n",
    "cm1=confusion_matrix(y_test,y_pred)\n",
    "sns.heatmap(cm1,annot=True)\n",
    "plt.show(ax)\n",
    "cm1"
   ]
  },
  {
   "cell_type": "markdown",
   "id": "stock-black",
   "metadata": {},
   "source": [
    "# Observations:\n",
    "<br> Model is making very few errors in predicting Valid Transactions as Invalid Transactions while only 1 error in Predicting Invalid Transactions as Valid Transactions which is very good </br>"
   ]
  },
  {
   "cell_type": "markdown",
   "id": "illegal-globe",
   "metadata": {},
   "source": [
    "# Decision Tree"
   ]
  },
  {
   "cell_type": "code",
   "execution_count": 194,
   "id": "sustained-internship",
   "metadata": {},
   "outputs": [],
   "source": [
    "# Trying the Hyperparameter Tuning for Decision Tree\n",
    "# Decision Tree\n",
    "from sklearn.tree import DecisionTreeClassifier\n",
    "dtc=DecisionTreeClassifier()\n",
    "random_grid_dt={'max_depth':[2,4,6,8,12,15,25,50,75],\n",
    "                'splitter':['best', 'random'],\n",
    "             'criterion':['gini','entropy']\n",
    "             }"
   ]
  },
  {
   "cell_type": "code",
   "execution_count": 195,
   "id": "induced-accommodation",
   "metadata": {},
   "outputs": [],
   "source": [
    "# Creating a function \n",
    "def hypertuning_dtcv(est,random_grid,nbr_iter,X,y):\n",
    "    dtsearch=RandomizedSearchCV(est,param_distributions=random_grid,n_jobs=-1,n_iter=nbr_iter,cv=3,return_train_score=True) # kfold cv=5 \n",
    "    dtsearch.fit(x,y_train)  # Fitting the RandomizedSearchCV on data\n",
    "    ht_params=dtsearch.best_params_ # Getting best parameters \n",
    "    ht_score=dtsearch.best_score_ # Getting Score of randomziedSearchCV\n",
    "    results_dt=pd.DataFrame(dtsearch.cv_results_)\n",
    "    return ht_params,ht_score,results_dt"
   ]
  },
  {
   "cell_type": "code",
   "execution_count": 196,
   "id": "essential-racing",
   "metadata": {},
   "outputs": [],
   "source": [
    "dt_parameters, dt_ht_score,results_dt=hypertuning_dtcv(dtc,random_grid_dt,3,x,y_train) # 3 possible random combinations(options) to selected "
   ]
  },
  {
   "cell_type": "code",
   "execution_count": 197,
   "id": "illegal-mercury",
   "metadata": {},
   "outputs": [
    {
     "data": {
      "text/html": [
       "<div>\n",
       "<style scoped>\n",
       "    .dataframe tbody tr th:only-of-type {\n",
       "        vertical-align: middle;\n",
       "    }\n",
       "\n",
       "    .dataframe tbody tr th {\n",
       "        vertical-align: top;\n",
       "    }\n",
       "\n",
       "    .dataframe thead th {\n",
       "        text-align: right;\n",
       "    }\n",
       "</style>\n",
       "<table border=\"1\" class=\"dataframe\">\n",
       "  <thead>\n",
       "    <tr style=\"text-align: right;\">\n",
       "      <th></th>\n",
       "      <th>param_splitter</th>\n",
       "      <th>param_max_depth</th>\n",
       "      <th>param_criterion</th>\n",
       "      <th>mean_test_score</th>\n",
       "      <th>mean_train_score</th>\n",
       "    </tr>\n",
       "  </thead>\n",
       "  <tbody>\n",
       "    <tr>\n",
       "      <th>0</th>\n",
       "      <td>random</td>\n",
       "      <td>50</td>\n",
       "      <td>entropy</td>\n",
       "      <td>0.999978</td>\n",
       "      <td>0.999999</td>\n",
       "    </tr>\n",
       "    <tr>\n",
       "      <th>1</th>\n",
       "      <td>best</td>\n",
       "      <td>12</td>\n",
       "      <td>entropy</td>\n",
       "      <td>0.999992</td>\n",
       "      <td>0.999999</td>\n",
       "    </tr>\n",
       "    <tr>\n",
       "      <th>2</th>\n",
       "      <td>random</td>\n",
       "      <td>15</td>\n",
       "      <td>gini</td>\n",
       "      <td>0.999750</td>\n",
       "      <td>0.999761</td>\n",
       "    </tr>\n",
       "  </tbody>\n",
       "</table>\n",
       "</div>"
      ],
      "text/plain": [
       "  param_splitter param_max_depth param_criterion  mean_test_score  \\\n",
       "0         random              50         entropy         0.999978   \n",
       "1           best              12         entropy         0.999992   \n",
       "2         random              15            gini         0.999750   \n",
       "\n",
       "   mean_train_score  \n",
       "0          0.999999  \n",
       "1          0.999999  \n",
       "2          0.999761  "
      ]
     },
     "execution_count": 197,
     "metadata": {},
     "output_type": "execute_result"
    }
   ],
   "source": [
    "results_dt[['param_splitter','param_max_depth','param_criterion','mean_test_score','mean_train_score']]"
   ]
  },
  {
   "cell_type": "code",
   "execution_count": 198,
   "id": "tender-volleyball",
   "metadata": {},
   "outputs": [
    {
     "data": {
      "text/plain": [
       "{'splitter': 'best', 'max_depth': 12, 'criterion': 'entropy'}"
      ]
     },
     "execution_count": 198,
     "metadata": {},
     "output_type": "execute_result"
    }
   ],
   "source": [
    "dt_parameters"
   ]
  },
  {
   "cell_type": "code",
   "execution_count": 200,
   "id": "thorough-truck",
   "metadata": {},
   "outputs": [
    {
     "data": {
      "image/png": "[encoded data removed]",
      "text/plain": [
       "<Figure size 432x288 with 1 Axes>"
      ]
     },
     "metadata": {
      "needs_background": "light"
     },
     "output_type": "display_data"
    }
   ],
   "source": [
    "# https://scikit-learn.org/stable/modules/generated/sklearn.metrics.roc_curve.html#sklearn.metrics.roc_curve\n",
    "from sklearn.metrics import roc_curve, auc\n",
    "# Classifier with parameter\n",
    "dtc1=DecisionTreeClassifier(criterion='entropy', max_depth= 12,splitter='best')\n",
    "dtc1.fit(x, y_train)\n",
    "# roc_auc_score(y_true, y_score) the 2nd parameter should be probability estimates of the positive class\n",
    "# not the predicted outputs\n",
    "\n",
    "y_train_pred = batch_predict(dtc1, x)    \n",
    "y_test_pred = batch_predict(dtc1, y)\n",
    "\n",
    "train_fpr, train_tpr, tr_thresholds = roc_curve(y_train, y_train_pred)\n",
    "test_fpr, test_tpr, te_thresholds = roc_curve(y_test, y_test_pred)\n",
    "\n",
    "plt.plot(train_fpr, train_tpr, label=\"train AUC =\"+str(auc(train_fpr, train_tpr)))\n",
    "plt.plot(test_fpr, test_tpr, label=\"test AUC =\"+str(auc(test_fpr, test_tpr)))\n",
    "plt.legend()\n",
    "plt.xlabel(\"False Positive Rate\")\n",
    "plt.ylabel(\"True Positive Rate\")\n",
    "plt.title(\"ERROR PLOTS\")\n",
    "plt.grid()\n",
    "plt.show()"
   ]
  },
  {
   "cell_type": "markdown",
   "id": "nearby-freedom",
   "metadata": {},
   "source": [
    "# observations:\n",
    "<br><b> Test AUC score is 99.79% i.e. Given a point it will be 99.79% correctly predicted as Valid or invalid transactions </br></b>"
   ]
  },
  {
   "cell_type": "code",
   "execution_count": 201,
   "id": "particular-charlotte",
   "metadata": {},
   "outputs": [
    {
     "data": {
      "text/plain": [
       "0.9999921416020444"
      ]
     },
     "execution_count": 201,
     "metadata": {},
     "output_type": "execute_result"
    }
   ],
   "source": [
    "# Accuracy \n",
    "y_pred=dtc1.predict(y) # predicting the data on test data points\n",
    "y_pred \n",
    "from sklearn.metrics import accuracy_score\n",
    "accuracy_score(y_test,y_pred)"
   ]
  },
  {
   "cell_type": "code",
   "execution_count": 203,
   "id": "about-computer",
   "metadata": {},
   "outputs": [
    {
     "data": {
      "image/png": "[encoded data removed]",
      "text/plain": [
       "<Figure size 432x288 with 2 Axes>"
      ]
     },
     "metadata": {
      "needs_background": "light"
     },
     "output_type": "display_data"
    },
    {
     "data": {
      "text/plain": [
       "array([[1270877,       4],\n",
       "       [      6,    1637]], dtype=int64)"
      ]
     },
     "execution_count": 203,
     "metadata": {},
     "output_type": "execute_result"
    }
   ],
   "source": [
    "from sklearn.metrics import confusion_matrix\n",
    "cm=confusion_matrix(y_test,y_pred)\n",
    "sns.heatmap(cm,annot=True)\n",
    "plt.show(ax)\n",
    "cm"
   ]
  },
  {
   "cell_type": "markdown",
   "id": "exempt-candle",
   "metadata": {},
   "source": [
    "# Observations:\n",
    "<br><b>Model is performing well making very few errors when Actual label is 1(Invalid Transaction) while prediction is 0(Valid Transaction)</br></b>\n",
    "<br><b>Model making very few errors when actual label is 0(Valid Transaction) but prediction is 1 i.e. Invalid Transaction</br></b>"
   ]
  },
  {
   "cell_type": "code",
   "execution_count": 204,
   "id": "developmental-texture",
   "metadata": {},
   "outputs": [
    {
     "name": "stdout",
     "output_type": "stream",
     "text": [
      "Feature: 0, Score: 0.00999\n",
      "Feature: 1, Score: 0.00014\n",
      "Feature: 2, Score: 0.00100\n",
      "Feature: 3, Score: 0.76990\n",
      "Feature: 4, Score: 0.00053\n",
      "Feature: 5, Score: 0.01193\n",
      "Feature: 6, Score: 0.00418\n",
      "Feature: 7, Score: 0.20150\n",
      "Feature: 8, Score: 0.00083\n"
     ]
    }
   ],
   "source": [
    "# Reference: https://machinelearningmastery.com/calculate-feature-importance-with-python/\n",
    "# getting feature importance \n",
    "importance=dtc1.feature_importances_\n",
    "for i,v in enumerate(importance):\n",
    "    print('Feature: %0d, Score: %.5f'%(i,v))"
   ]
  },
  {
   "cell_type": "markdown",
   "id": "pleased-occasions",
   "metadata": {},
   "source": [
    "# Observations:\n",
    "<br> X_train_newbalanceOrig and X_train_errorBalanceOrig are two most important features for Decision Tree Model </br>\n",
    "<br> Can use these subsets of features only for model building and gettting prediction results later instead of using all features </br>"
   ]
  },
  {
   "cell_type": "code",
   "execution_count": 211,
   "id": "intelligent-freedom",
   "metadata": {},
   "outputs": [
    {
     "name": "stdout",
     "output_type": "stream",
     "text": [
      "+------------------------------------------+----------+---------------+\n",
      "|                  Model                   | Test-AUC | Test Accuracy |\n",
      "+------------------------------------------+----------+---------------+\n",
      "|              Random Forest               | 0.99963  |    0.999994   |\n",
      "| Decision Tree with Hyperparameter Tuning |  0.9979  |    0.999992   |\n",
      "+------------------------------------------+----------+---------------+\n"
     ]
    }
   ],
   "source": [
    "from prettytable import PrettyTable\n",
    "x = PrettyTable()\n",
    "x.field_names = [\"Model\", \"Test-AUC\",\"Test Accuracy\"]\n",
    "\n",
    "x.add_row([ \"Random Forest\", 0.99963,0.999994])\n",
    "x.add_row([ \"Decision Tree with Hyperparameter Tuning\", 0.9979,0.999992])\n",
    "print(x)"
   ]
  },
  {
   "cell_type": "markdown",
   "id": "electronic-moscow",
   "metadata": {},
   "source": [
    "# Observations:\n",
    "<br><b> Random forest has higher accuracy and AUc scores suggesting it is a better model </br></b>\n",
    "<br><b> We can also use other Evaluation Metric like Recall (because) this can be important as Recall tells Out of all the Actual Positive points , How many are Predicted to be Positive points i.e. Say 100 points are Actual Valid Transactions, so out of which say 95 are Predicted as Valid transactions and we will come to know that 95 % of actual Valid Transactions points are correctly predicted while 5 % are incorrectly predicted and can dig deeper into these 5 incorrectly predicted points</br></b>\n"
   ]
  },
  {
   "cell_type": "code",
   "execution_count": null,
   "id": "iraqi-characterization",
   "metadata": {},
   "outputs": [],
   "source": []
  }
 ],
 "metadata": {
  "kernelspec": {
   "display_name": "Python 3",
   "language": "python",
   "name": "python3"
  },
  "language_info": {
   "codemirror_mode": {
    "name": "ipython",
    "version": 3
   },
   "file_extension": ".py",
   "mimetype": "text/x-python",
   "name": "python",
   "nbconvert_exporter": "python",
   "pygments_lexer": "ipython3",
   "version": "3.7.7"
  }
 },
 "nbformat": 4,
 "nbformat_minor": 5
}
